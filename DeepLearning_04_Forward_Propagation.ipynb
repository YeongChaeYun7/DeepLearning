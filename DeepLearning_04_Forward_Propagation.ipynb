{
  "nbformat": 4,
  "nbformat_minor": 0,
  "metadata": {
    "colab": {
      "provenance": [],
      "collapsed_sections": [],
      "authorship_tag": "ABX9TyPuYzRqKGY45pQnrUvuVmin"
    },
    "kernelspec": {
      "name": "python3",
      "display_name": "Python 3"
    },
    "language_info": {
      "name": "python"
    }
  },
  "cells": [
    {
      "cell_type": "markdown",
      "source": [
        "reference  \n",
        "'밑바닥부터 시작하는 딥러닝'의 순전파 부분 참고"
      ],
      "metadata": {
        "id": "eTBzvrLRdBMM"
      }
    },
    {
      "cell_type": "markdown",
      "source": [
        "# Forward Propagation 순전파  \n",
        "노드의 개수가 입력층 2, 은닉층 3,2개, 출력층 2개 일 경우,  \n",
        "w,b를 지정하여(역전파를 통해 스스로 w,b 학습 가능) 인공신경망의 입력부터 출력 과정 실습  \n"
      ],
      "metadata": {
        "id": "PVzYT4lTizAN"
      }
    },
    {
      "cell_type": "code",
      "source": [
        "import numpy as np"
      ],
      "metadata": {
        "id": "ERcnl8yhPGOO"
      },
      "execution_count": 1,
      "outputs": []
    },
    {
      "cell_type": "code",
      "source": [
        "# 0 -> 1\n",
        "x = np.array([1.0, 0.5])\n",
        "w1 = np.array([[0.1, 0.3, 0.5],[0.2,0.4,0.6]])\n",
        "b1 =np.array([0.1, 0.2, 0.3])\n",
        "              \n",
        "a1 = np.dot(x,w1) +b1\n",
        "\n",
        "# 시그모이드 적용\n",
        "def sigmoid(x):\n",
        "  return 1/(1+np.exp(-x)) \n",
        "\n",
        "z1 = sigmoid(a1)"
      ],
      "metadata": {
        "id": "jhdldI32izVa"
      },
      "execution_count": 2,
      "outputs": []
    },
    {
      "cell_type": "code",
      "source": [
        "a1"
      ],
      "metadata": {
        "colab": {
          "base_uri": "https://localhost:8080/"
        },
        "id": "VQjI_8_6Sjix",
        "outputId": "7293070c-c8be-4fdd-a4cf-0321bf3a2e41"
      },
      "execution_count": 3,
      "outputs": [
        {
          "output_type": "execute_result",
          "data": {
            "text/plain": [
              "array([0.3, 0.7, 1.1])"
            ]
          },
          "metadata": {},
          "execution_count": 3
        }
      ]
    },
    {
      "cell_type": "code",
      "source": [
        "z1"
      ],
      "metadata": {
        "colab": {
          "base_uri": "https://localhost:8080/"
        },
        "id": "I4GSl1EYSjb3",
        "outputId": "52d7a941-0b61-4282-a5bd-e5aa89da8e54"
      },
      "execution_count": 4,
      "outputs": [
        {
          "output_type": "execute_result",
          "data": {
            "text/plain": [
              "array([0.57444252, 0.66818777, 0.75026011])"
            ]
          },
          "metadata": {},
          "execution_count": 4
        }
      ]
    },
    {
      "cell_type": "code",
      "source": [
        "# 1 -> 2\n",
        "w2 = np.array([[0.1, 0.4],[0.2,0.5],[0.3,0.6]])\n",
        "b2 =np.array([0.1, 0.2])\n",
        "              \n",
        "a2 = np.dot(z1,w2) +b2\n",
        "z2 = sigmoid(a2)"
      ],
      "metadata": {
        "id": "fPcbH1CXSubj"
      },
      "execution_count": 13,
      "outputs": []
    },
    {
      "cell_type": "code",
      "source": [
        "# 2 -> 3\n",
        "# 은닉에서 출력층 전달은 정의에 따라 다를 수 있다?\n",
        "# 일반적으로 마지막은 활성화 안시킴. 분류는 softmax\n",
        "def identity_function(x):\n",
        "  return x\n",
        "\n",
        "w3 = np.array([[0.1, 0.3],[0.2,0.4]])\n",
        "b3 =np.array([0.1, 0.2])\n",
        "              \n",
        "a3 = np.dot(z2,w3) +b3\n",
        "y = identity_function(a3)"
      ],
      "metadata": {
        "id": "6_zDEJ0bTDCo"
      },
      "execution_count": 14,
      "outputs": []
    },
    {
      "cell_type": "code",
      "source": [
        "# 통합\n",
        "def sigmoid(x): # activation function\n",
        "  return 1/(1+np.exp(-x)) \n",
        "\n",
        "def identity_function(x): # output layer\n",
        "  return x\n",
        "\n",
        "def init_network(): \n",
        "  network = {}\n",
        "  network['w1'] = np.array([[0.1, 0.3, 0.5],[0.2,0.4,0.6]])\n",
        "  network['b1'] = np.array([0.1, 0.2, 0.3])\n",
        "  network['w2'] = np.array([[0.1, 0.4],[0.2,0.5],[0.3,0.6]])\n",
        "  network['b2'] = np.array([0.1, 0.2])\n",
        "  network['w3'] = np.array([[0.1, 0.3],[0.2,0.4]])\n",
        "  network['b3'] = np.array([0.1, 0.2])\n",
        "  return network\n",
        "\n",
        "def forword(network, x): \n",
        "  w1,w2,w3 = network['w1'], network['w2'], network['w3']\n",
        "  b1,b2,b3 = network['b1'], network['b2'], network['b3']\n",
        "  \n",
        "  a1 = np.dot(x,w1) +b1\n",
        "  z1 = sigmoid(a1)\n",
        "  a2 = np.dot(z1,w2) +b2\n",
        "  z2 = sigmoid(a2)\n",
        "  a3 = np.dot(z2,w3) +b3\n",
        "  y = identity_function(a3)\n",
        "\n",
        "  return y\n",
        "\n",
        "x = np.array([1.0, 0.5]) \n",
        "y = forword(init_network(),x)\n",
        "print(y)"
      ],
      "metadata": {
        "colab": {
          "base_uri": "https://localhost:8080/"
        },
        "id": "GDydTxddT5yj",
        "outputId": "62a9bb26-545d-41df-d2c2-30dfe074461d"
      },
      "execution_count": 12,
      "outputs": [
        {
          "output_type": "stream",
          "name": "stdout",
          "text": [
            "[0.31682708 0.69627909]\n"
          ]
        }
      ]
    }
  ]
}