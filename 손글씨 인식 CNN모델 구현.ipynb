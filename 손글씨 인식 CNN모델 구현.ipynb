{
  "nbformat": 4,
  "nbformat_minor": 0,
  "metadata": {
    "colab": {
      "provenance": [],
      "authorship_tag": "ABX9TyM2AcdMmFYKrk9OCJqTZilh"
    },
    "kernelspec": {
      "name": "python3",
      "display_name": "Python 3"
    },
    "language_info": {
      "name": "python"
    }
  },
  "cells": [
    {
      "cell_type": "markdown",
      "source": [
        "*가독성을 위해 하이퍼파라미터 탐색 과정을 합쳐놓음. 객관성을 위해 부분 실행 하여 참고바람"
      ],
      "metadata": {
        "id": "k3CoPP3A7C9g"
      }
    },
    {
      "cell_type": "markdown",
      "source": [
        "# 손글씨 인식 모델 (Keras를 활용한 손글씨 인식 CNN 모델 구현)\n",
        "\n",
        "\n",
        "---\n",
        "\n",
        "\n",
        "###동기 및 진행 의도\n",
        "OCR 기능을 활용한 문서의 전자화가 대중화되어 있다.  \n",
        "한글과 같은 문자의 활용도가 상대적으로 높지만, 숫자 데이터도 분야에 따라서 주요한 수단으로 활용된다.  \n",
        "이 프로젝트에서는 손글씨로 작성된 숫자를 인식할 수 있는 인공신경망을 구축함  \n",
        "\n",
        "\n",
        "---\n",
        "\n",
        "\n",
        "###문제정의 및 목표  \n",
        "손글씨 이미지 input을 인식하여 숫자 0~9 사이의 정확한 output 출력하는 인공 신경망 모델 구현  \n",
        "\n",
        "딥러닝은 데이터들 간의 규칙성을 파악하기 때문에 픽셀 하나하나를 특성으로 가지는 이미지 처리에 강하다.  \n",
        "\n",
        "딥러닝 중에서도 영상 처리의 가장 기본인 CNN방식 사용하여 문제를 해결하려한다. \n",
        "  \n",
        "\n",
        "---\n",
        "\n",
        "\n",
        "###데이터 준비와 전처리  \n",
        "MNIST Dataset  \n",
        "Keras에서 MNIST 데이터를 불러오는 기능을 제공하므로 이를 이용해 데이터 호출함      \n",
        "총 70,000개의 손글씨 숫자(0 ~ 9 digits) 이미지로 구성.   \n",
        "train_labels 모델 트레이닝을 위한 60,000개의 숫자(integer 0 ~ 9) 라벨(label) 이미지,  \n",
        "test_labels 모델 구현 후 테스팅을 위한 10,000개의 숫자(integer 0~9) 라벨 이미지로 이루어져 있다  "
      ],
      "metadata": {
        "id": "FQ_YF7ADEkWh"
      }
    },
    {
      "cell_type": "markdown",
      "source": [
        "# Base Line 신경망 구축\n",
        "### 관련 라이브러리 선언"
      ],
      "metadata": {
        "id": "kLKOxUYoErL3"
      }
    },
    {
      "cell_type": "code",
      "metadata": {
        "colab": {
          "base_uri": "https://localhost:8080/"
        },
        "id": "IL5vZQKcmn3-",
        "outputId": "8caacd1e-6661-48cb-de59-36c3ba7090d1"
      },
      "source": [
        "from google.colab import drive\n",
        "drive.mount('/content/drive')"
      ],
      "execution_count": null,
      "outputs": [
        {
          "output_type": "stream",
          "name": "stdout",
          "text": [
            "Mounted at /content/drive\n"
          ]
        }
      ]
    },
    {
      "cell_type": "code",
      "metadata": {
        "id": "ljuxGNBmmvN8"
      },
      "source": [
        "from tensorflow.keras import datasets, layers, models\n",
        "from tensorflow.keras.models import load_model\n",
        "import numpy as np\n",
        "import matplotlib.pyplot as plt\n",
        "from tensorflow.keras.utils import plot_model "
      ],
      "execution_count": null,
      "outputs": []
    },
    {
      "cell_type": "markdown",
      "source": [
        "###MNIST 데이터셋 호출 및 전처리  \n",
        "MNIST는 28x28픽셀의 흑백 이미지라 데이터 모양을 28x28x1로 잡음  \n",
        "\n",
        "0~9 integer의 label데이터는 one-hot-encoding 처리함  "
      ],
      "metadata": {
        "id": "lIIY6rDm2boK"
      }
    },
    {
      "cell_type": "code",
      "metadata": {
        "id": "neOY3rlamwtT",
        "colab": {
          "base_uri": "https://localhost:8080/"
        },
        "outputId": "afbb476a-499f-4ad9-951e-3faa829a1508"
      },
      "source": [
        "# 데이터셋 호출 및 분류\n",
        "(train_images, train_labels), (test_images, test_labels) = datasets.mnist.load_data()\n",
        "train_images = train_images.reshape((60000, 28, 28, 1))\n",
        "test_images = test_images.reshape((10000, 28, 28, 1))\n",
        "train_images, test_images = train_images / 255.0, test_images / 255.0"
      ],
      "execution_count": null,
      "outputs": [
        {
          "output_type": "stream",
          "name": "stdout",
          "text": [
            "Downloading data from https://storage.googleapis.com/tensorflow/tf-keras-datasets/mnist.npz\n",
            "11490434/11490434 [==============================] - 0s 0us/step\n"
          ]
        }
      ]
    },
    {
      "cell_type": "code",
      "source": [
        "# 이미지 전처리. 데이터 모양을 28x28에서 28x28x1로 reshape함\n",
        "train_images_vec= train_images.reshape((60000,28,28,1))\n",
        "test_images_vec= test_images.reshape((10000,28,28,1))"
      ],
      "metadata": {
        "id": "Wh6f3U_TGA8E"
      },
      "execution_count": null,
      "outputs": []
    },
    {
      "cell_type": "code",
      "source": [
        "# 라벨 전처리(0~9 integer). 원핫인코딩\n",
        "# One-hot Encoding 단 하나의 값만 1(true)이고 나머지 값은 모두 0(false)인 데이터 형태 의미. 컴퓨터가 인식하고 학습하기에 용이하게해줌\n",
        "def one_hot_encoding(labels,demension=10):\n",
        "  res = np.zeros((len(labels),demension)) \n",
        "  for i , label in enumerate(labels): # enumerate로 리스트에 인덱스(i) 부여\n",
        "    res[i,label] = 1.\n",
        "  return res\n",
        "\n",
        "train_labels_vec = one_hot_encoding(train_labels)\n",
        "test_labels_vec = one_hot_encoding(test_labels)\n",
        "\n",
        "print(train_labels_vec.shape)\n",
        "print(test_labels_vec.shape)"
      ],
      "metadata": {
        "colab": {
          "base_uri": "https://localhost:8080/"
        },
        "id": "ZJ1zKJy2GkqT",
        "outputId": "ffbbdc12-4e6b-473d-f930-f21dc4715974"
      },
      "execution_count": null,
      "outputs": [
        {
          "output_type": "stream",
          "name": "stdout",
          "text": [
            "(60000, 10)\n",
            "(10000, 10)\n"
          ]
        }
      ]
    },
    {
      "cell_type": "code",
      "source": [
        "# 원핫인코딩 처리 전후 비교\n",
        "print(train_labels[2])\n",
        "print(train_labels_vec[2])"
      ],
      "metadata": {
        "colab": {
          "base_uri": "https://localhost:8080/"
        },
        "id": "dYIZwPG4JjC-",
        "outputId": "3260bb93-ce1a-43df-a9aa-a889e2955891"
      },
      "execution_count": null,
      "outputs": [
        {
          "output_type": "stream",
          "name": "stdout",
          "text": [
            "4\n",
            "[0. 0. 0. 0. 1. 0. 0. 0. 0. 0.]\n"
          ]
        }
      ]
    },
    {
      "cell_type": "markdown",
      "source": [
        "### 데이터셋 분할  \n",
        "트레이닝 데이터셋 50,000개  \n",
        "검증 데이터셋 10,000개  \n",
        "테스트 데이터셋 10,000개  "
      ],
      "metadata": {
        "id": "l9_IzzoXjW4o"
      }
    },
    {
      "cell_type": "code",
      "source": [
        "rand_indices = np.random.permutation(60000)\n",
        "valid_indices = rand_indices[50000:60000]\n",
        "train_indices = rand_indices[0:50000]\n",
        "\n",
        "train_images_valid = train_images_vec[valid_indices, :, :, :]  # validation data는 중간 트레이닝 검증 목적으로 overfitting 방지 효과있음\n",
        "train_labels_valid = train_labels_vec[valid_indices, :]\n",
        "\n",
        "train_images_vec = train_images_vec[train_indices, :, :, :] \n",
        "train_labels_vec = train_labels_vec[train_indices, :]\n",
        "\n",
        "print(train_images_valid.shape) \n",
        "print(train_labels_valid.shape) # validation data = 10000\n",
        "print(train_images_vec.shape)\n",
        "print(train_labels_vec.shape) # training data = 50000"
      ],
      "metadata": {
        "colab": {
          "base_uri": "https://localhost:8080/"
        },
        "id": "Y8cZp86VKh7Q",
        "outputId": "b100702b-ce62-4fc6-cd9e-02428313e2f6"
      },
      "execution_count": null,
      "outputs": [
        {
          "output_type": "stream",
          "name": "stdout",
          "text": [
            "(10000, 28, 28, 1)\n",
            "(10000, 10)\n",
            "(50000, 28, 28, 1)\n",
            "(50000, 10)\n"
          ]
        }
      ]
    },
    {
      "cell_type": "markdown",
      "source": [
        "###Base Line 모델 \n",
        "\n",
        "간단히 층 두개를 이을 모델이므로 Sequential 모델로 층층이 쌓음   \n",
        "\n",
        "Baseline으로 사용할 모델이라 가장 일반적인 형태로 구축하였음  \n",
        "'Conv2d'로 Feature Map을 생성하고, 'MaxPooling'으로 차원을 감소시킨 후   \n",
        "마지막으로 Dense Layer를 사용하여 감소된 차원의 Feature Map들만 Input으로 하여 Output과 완전연결 계층을 생성하여,  \n",
        "효율적인 학습이 이루어지도록 하였음  \n",
        "\n",
        "다중분류이므로 softmax를 사용하여  예측값을 확률값으로 변환하고  \n",
        "이외 활성화함수는 ReLU로 통일함 "
      ],
      "metadata": {
        "id": "y45rTZ2mEyCU"
      }
    },
    {
      "cell_type": "code",
      "source": [
        "model = models.Sequential()\n",
        "model.add(layers.Conv2D(filters= 10, kernel_size=(5,5), activation='relu', input_shape=(28, 28, 1))) \n",
        "model.add(layers.MaxPooling2D((2, 2))) # MaxPooling2D클래스\n",
        "model.add(layers.Conv2D(filters= 20, kernel_size=(5,5), activation='relu'))\n",
        "model.add(layers.MaxPooling2D((2, 2)))\n",
        "\n",
        "model.add(layers.Flatten())\n",
        "model.add(layers.Dense(64, activation='relu'))\n",
        "model.add(layers.Dense(10, activation='softmax')) # softmax 함수는 출력값의 합이 항상 1이며, 각 클래스가 정답일 확률나타냄\n",
        "\n",
        "model.summary()"
      ],
      "metadata": {
        "colab": {
          "base_uri": "https://localhost:8080/"
        },
        "id": "R3B726QSPiRi",
        "outputId": "c3d1eb95-ea64-4ad2-d109-3cff47ff8df2"
      },
      "execution_count": null,
      "outputs": [
        {
          "output_type": "stream",
          "name": "stdout",
          "text": [
            "Model: \"sequential\"\n",
            "_________________________________________________________________\n",
            " Layer (type)                Output Shape              Param #   \n",
            "=================================================================\n",
            " conv2d (Conv2D)             (None, 24, 24, 10)        260       \n",
            "                                                                 \n",
            " max_pooling2d (MaxPooling2D  (None, 12, 12, 10)       0         \n",
            " )                                                               \n",
            "                                                                 \n",
            " conv2d_1 (Conv2D)           (None, 8, 8, 20)          5020      \n",
            "                                                                 \n",
            " max_pooling2d_1 (MaxPooling  (None, 4, 4, 20)         0         \n",
            " 2D)                                                             \n",
            "                                                                 \n",
            " flatten (Flatten)           (None, 320)               0         \n",
            "                                                                 \n",
            " dense (Dense)               (None, 64)                20544     \n",
            "                                                                 \n",
            " dense_1 (Dense)             (None, 10)                650       \n",
            "                                                                 \n",
            "=================================================================\n",
            "Total params: 26,474\n",
            "Trainable params: 26,474\n",
            "Non-trainable params: 0\n",
            "_________________________________________________________________\n"
          ]
        }
      ]
    },
    {
      "cell_type": "markdown",
      "source": [
        "Base Line 신경망 네트워크 시각화"
      ],
      "metadata": {
        "id": "Bb6YspjZ4kKy"
      }
    },
    {
      "cell_type": "code",
      "source": [
        "plot_model(model, to_file='model.png', show_shapes=True)"
      ],
      "metadata": {
        "colab": {
          "base_uri": "https://localhost:8080/",
          "height": 865
        },
        "id": "OA-WgzbgRHhw",
        "outputId": "75f4fa22-0baf-47c1-bc23-d932c877773b"
      },
      "execution_count": null,
      "outputs": [
        {
          "output_type": "execute_result",
          "data": {
            "image/png": "[encoded data removed]",
            "text/plain": [
              "<IPython.core.display.Image object>"
            ]
          },
          "metadata": {},
          "execution_count": 10
        }
      ]
    },
    {
      "cell_type": "markdown",
      "source": [
        "###Hyperparameter 설정 및 컴파일  \n",
        "컴파일 과정으로 모델의 손실함수를 정의하고, 정한 손실함수로 얻은 손실값을 통해 모델의 파라미터를 조정하는 옵티마이저 등을 정의함  \n",
        "\n",
        "기초적인 하이퍼파라미터를 배치하여 나온 결과를 Baseline으로 사용하여 최적의 결과를 찾아보려 함   **굵은 텍스트**\n",
        "(하이퍼파라미터 조정 과정에서 \n",
        "metrics는 평가 지표이므로 고정함)  \n",
        "\n",
        "Optimizer - SGD  \n",
        "Loss Function - categorical_crossentropy  \n",
        "Epochs - 10  \n",
        "Batch size - 32  \n",
        "Metrics - accuracy  "
      ],
      "metadata": {
        "id": "mcklsyCVbP17"
      }
    },
    {
      "cell_type": "code",
      "source": [
        "model.compile(optimizer=  'SGD',\n",
        "              loss='categorical_crossentropy',\n",
        "              metrics=['accuracy']) \n",
        "history = model.fit(train_images_valid, train_labels_valid, batch_size=32, epochs=10)"
      ],
      "metadata": {
        "id": "2VnQvUfQ5yN8"
      },
      "execution_count": null,
      "outputs": []
    },
    {
      "cell_type": "code",
      "source": [
        "plt.plot(history.history['loss'], label = 'loss')\n",
        "plt.plot(history.history['accuracy'], label = 'accuracy')\n",
        "plt.xlabel('epoch')\n",
        "plt.legend()"
      ],
      "metadata": {
        "id": "UOoolzPR6mJR"
      },
      "execution_count": null,
      "outputs": []
    },
    {
      "cell_type": "markdown",
      "source": [
        "###Base Line 모델 검증 및 평가"
      ],
      "metadata": {
        "id": "8b3qCJwG6Ihh"
      }
    },
    {
      "cell_type": "code",
      "source": [
        "model.evaluate(train_images_valid, train_labels_valid)"
      ],
      "metadata": {
        "id": "PG2YmlQH5-Kl"
      },
      "execution_count": null,
      "outputs": []
    },
    {
      "cell_type": "code",
      "source": [
        "model.evaluate(test_images, test_labels)"
      ],
      "metadata": {
        "id": "-vqJk2XU6g_v"
      },
      "execution_count": null,
      "outputs": []
    },
    {
      "cell_type": "code",
      "source": [
        "print()\n",
        "plt.plot(history.history['loss'], label = 'loss')\n",
        "plt.plot(history.history['accuracy'], label = 'accuracy')\n",
        "plt.xlabel('epoch')\n",
        "plt.legend()"
      ],
      "metadata": {
        "id": "hP0EnvSy80jm"
      },
      "execution_count": null,
      "outputs": []
    },
    {
      "cell_type": "markdown",
      "source": [
        "Baseline 신경망 모델을 학습한 결과, 약 96% 정확도로 성장 여지가 많은 결과가 도출됨  \n",
        "\n",
        "Epoch 간 accuracy 증가 폭이 작지 않고 일정 수준까지 수렴 속도도 빠르지 않은 것으로 판단하여, Epoch와 Bachsize 증가 필요성을 느낌  \n",
        "\n",
        "위 2가지 조건을 우선적으로 탐색 후 나머지  Hyperparameter 비교해보고자 함  "
      ],
      "metadata": {
        "id": "YKaOdVnw6wbp"
      }
    },
    {
      "cell_type": "markdown",
      "source": [
        "###Hyper-parameyer 업데이트  \n",
        "####Epochs 변경  \n",
        "\n",
        "epochs=30"
      ],
      "metadata": {
        "id": "9vWEJbvo8YuT"
      }
    },
    {
      "cell_type": "code",
      "source": [
        "model.compile(optimizer=  'SGD',\n",
        "              loss='categorical_crossentropy',\n",
        "              metrics=['accuracy']) \n",
        "history = model.fit(train_images_valid, train_labels_valid, batch_size=32, epochs=30)"
      ],
      "metadata": {
        "id": "YiJEWvX88oF_"
      },
      "execution_count": null,
      "outputs": []
    },
    {
      "cell_type": "code",
      "source": [
        "model.evaluate(train_images_valid, train_labels_valid)"
      ],
      "metadata": {
        "id": "jfHN6vZN8vlS"
      },
      "execution_count": null,
      "outputs": []
    },
    {
      "cell_type": "code",
      "source": [
        "model.evaluate(test_images, test_labels)"
      ],
      "metadata": {
        "id": "p9ZeRUTF8wPA"
      },
      "execution_count": null,
      "outputs": []
    },
    {
      "cell_type": "code",
      "source": [
        "print(\"epochs=30\")\n",
        "plt.plot(history.history['loss'], label = 'loss')\n",
        "plt.plot(history.history['accuracy'], label = 'accuracy')\n",
        "plt.xlabel('epoch')\n",
        "plt.legend()"
      ],
      "metadata": {
        "id": "orGaEu9m9CU1"
      },
      "execution_count": null,
      "outputs": []
    },
    {
      "cell_type": "markdown",
      "source": [
        "epochs=50"
      ],
      "metadata": {
        "id": "BCzfDXC5-TUU"
      }
    },
    {
      "cell_type": "code",
      "source": [
        "model.compile(optimizer=  'SGD',\n",
        "              loss='categorical_crossentropy',\n",
        "              metrics=['accuracy']) \n",
        "history = model.fit(train_images_valid, train_labels_valid, batch_size=32, epochs=30)"
      ],
      "metadata": {
        "id": "tboRzg-h-Hty"
      },
      "execution_count": null,
      "outputs": []
    },
    {
      "cell_type": "code",
      "source": [
        "model.evaluate(train_images_valid, train_labels_valid)"
      ],
      "metadata": {
        "id": "TitgfUVE-Htz"
      },
      "execution_count": null,
      "outputs": []
    },
    {
      "cell_type": "code",
      "source": [
        "model.evaluate(test_images, test_labels)"
      ],
      "metadata": {
        "id": "tRDhS4V2-Ht0"
      },
      "execution_count": null,
      "outputs": []
    },
    {
      "cell_type": "code",
      "source": [
        "print(\"epochs=50\")\n",
        "plt.plot(history.history['loss'], label = 'loss')\n",
        "plt.plot(history.history['accuracy'], label = 'accuracy')\n",
        "plt.xlabel('epoch')\n",
        "plt.legend()"
      ],
      "metadata": {
        "id": "DmM8U8jR-Ht0"
      },
      "execution_count": null,
      "outputs": []
    },
    {
      "cell_type": "markdown",
      "source": [
        "베이스라인의 조건에서 에포크만 상향 조정했을 때, 모두 정확도가 상승함   \n",
        "표를 보면 에포크 50 전후부터 Overfiitting 현상 발견되고  \n",
        "설정이 30일 때와 50일 때의 뚜렷한 결과 차이가 없기에, 이후 에포크는 30으로 설정함"
      ],
      "metadata": {
        "id": "uFzf6X63-bQT"
      }
    },
    {
      "cell_type": "markdown",
      "source": [
        "####Bach size 변경  \n",
        "\n",
        "Bach size=64"
      ],
      "metadata": {
        "id": "APcjv-Yi_Nrw"
      }
    },
    {
      "cell_type": "code",
      "source": [
        "model.compile(optimizer=  'SGD',\n",
        "              loss='categorical_crossentropy',\n",
        "              metrics=['accuracy']) \n",
        "history = model.fit(train_images_valid, train_labels_valid, batch_size=64, epochs=30)"
      ],
      "metadata": {
        "id": "oapANjB6ADi0"
      },
      "execution_count": null,
      "outputs": []
    },
    {
      "cell_type": "code",
      "source": [
        "model.evaluate(train_images_valid, train_labels_valid)"
      ],
      "metadata": {
        "id": "pATV-oeXADi1"
      },
      "execution_count": null,
      "outputs": []
    },
    {
      "cell_type": "code",
      "source": [
        "model.evaluate(test_images, test_labels)"
      ],
      "metadata": {
        "id": "9q3mEetWADi1"
      },
      "execution_count": null,
      "outputs": []
    },
    {
      "cell_type": "code",
      "source": [
        "print(\"batch_size=64\")\n",
        "plt.plot(history.history['loss'], label = 'loss')\n",
        "plt.plot(history.history['accuracy'], label = 'accuracy')\n",
        "plt.xlabel('epoch')\n",
        "plt.legend()"
      ],
      "metadata": {
        "id": "LMaAvyp6ADi1"
      },
      "execution_count": null,
      "outputs": []
    },
    {
      "cell_type": "markdown",
      "source": [
        "Bach size=128"
      ],
      "metadata": {
        "id": "tKdm3zQo_8RX"
      }
    },
    {
      "cell_type": "code",
      "source": [
        "model.compile(optimizer=  'SGD',\n",
        "              loss='categorical_crossentropy',\n",
        "              metrics=['accuracy']) \n",
        "history = model.fit(train_images_valid, train_labels_valid, batch_size=128, epochs=30)"
      ],
      "metadata": {
        "id": "K8atzxYGAHIe"
      },
      "execution_count": null,
      "outputs": []
    },
    {
      "cell_type": "code",
      "source": [
        "model.evaluate(train_images_valid, train_labels_valid)"
      ],
      "metadata": {
        "id": "ent2MkSOAHIe"
      },
      "execution_count": null,
      "outputs": []
    },
    {
      "cell_type": "code",
      "source": [
        "model.evaluate(test_images, test_labels)"
      ],
      "metadata": {
        "id": "cx-hnY-hAHIe"
      },
      "execution_count": null,
      "outputs": []
    },
    {
      "cell_type": "code",
      "source": [
        "print(\"batch_size=128\")\n",
        "plt.plot(history.history['loss'], label = 'loss')\n",
        "plt.plot(history.history['accuracy'], label = 'accuracy')\n",
        "plt.xlabel('epoch')\n",
        "plt.legend()"
      ],
      "metadata": {
        "id": "eAMfMFSmAHIf"
      },
      "execution_count": null,
      "outputs": []
    },
    {
      "cell_type": "markdown",
      "source": [
        "배치사이즈 증가 결과, 모두 급격한 정확도 하락 관찰됨  \n",
        "조정을 통한 학습 속도, 일정 수준 Accuracy까지 수렴 속도 모두 체감되지 않음  \n",
        "이후 Bachsize는 32로 고정함  "
      ],
      "metadata": {
        "id": "VmlXg1O__0dH"
      }
    },
    {
      "cell_type": "markdown",
      "source": [
        "####Optimizer 변경 \n",
        "\n",
        "Adam\n"
      ],
      "metadata": {
        "id": "-M00gGbbAi_z"
      }
    },
    {
      "cell_type": "code",
      "source": [
        "model.compile(optimizer=  'adam',\n",
        "              loss='categorical_crossentropy',\n",
        "              metrics=['accuracy']) \n",
        "history = model.fit(train_images_valid, train_labels_valid, batch_size=32, epochs=30)"
      ],
      "metadata": {
        "id": "Hs91rLumA9yJ"
      },
      "execution_count": null,
      "outputs": []
    },
    {
      "cell_type": "code",
      "source": [
        "model.evaluate(train_images_valid, train_labels_valid)"
      ],
      "metadata": {
        "id": "YVtPmmFgA9yK"
      },
      "execution_count": null,
      "outputs": []
    },
    {
      "cell_type": "code",
      "source": [
        "model.evaluate(test_images, test_labels)"
      ],
      "metadata": {
        "id": "4EWad2DcA9yK"
      },
      "execution_count": null,
      "outputs": []
    },
    {
      "cell_type": "code",
      "source": [
        "print(\"adam\")\n",
        "plt.plot(history.history['loss'], label = 'loss')\n",
        "plt.plot(history.history['accuracy'], label = 'accuracy')\n",
        "plt.xlabel('epoch')\n",
        "plt.legend()"
      ],
      "metadata": {
        "id": "hkEOZqOCA9yK"
      },
      "execution_count": null,
      "outputs": []
    },
    {
      "cell_type": "markdown",
      "source": [
        "RMS Prop"
      ],
      "metadata": {
        "id": "Yndhq53ABrxe"
      }
    },
    {
      "cell_type": "code",
      "source": [
        "from tensorflow.keras.optimizers import RMSprop\n",
        "model.compile(optimizer=  RMSprop,\n",
        "              loss='categorical_crossentropy',\n",
        "              metrics=['accuracy']) \n",
        "history = model.fit(train_images_valid, train_labels_valid, batch_size=32, epochs=30)"
      ],
      "metadata": {
        "id": "I7fkfxSsBtWl"
      },
      "execution_count": null,
      "outputs": []
    },
    {
      "cell_type": "code",
      "source": [
        "model.evaluate(train_images_valid, train_labels_valid)"
      ],
      "metadata": {
        "id": "_0JloNzMBtWm"
      },
      "execution_count": null,
      "outputs": []
    },
    {
      "cell_type": "code",
      "source": [
        "model.evaluate(test_images, test_labels)"
      ],
      "metadata": {
        "id": "E7JTBv-bBtWm"
      },
      "execution_count": null,
      "outputs": []
    },
    {
      "cell_type": "code",
      "source": [
        "print(\"RMS prop\")\n",
        "plt.plot(history.history['loss'], label = 'loss')\n",
        "plt.plot(history.history['accuracy'], label = 'accuracy')\n",
        "plt.xlabel('epoch')\n",
        "plt.legend()"
      ],
      "metadata": {
        "id": "9HmnIbXRBtWm"
      },
      "execution_count": null,
      "outputs": []
    },
    {
      "cell_type": "markdown",
      "source": [
        "SGD, Adam 사용에서 높은 Accuracy를 확인할 수 있다  \n",
        "Adam이 가장 loss 시작점이 낮고 최솟값으로 빠르게 수렴하여 가장 적합하다고 판단됨  \n",
        "계산 비용을 고려하면SGD 옵티마이저의 의 효율이 좋다"
      ],
      "metadata": {
        "id": "Lck5K6fZAp2l"
      }
    },
    {
      "cell_type": "markdown",
      "source": [
        "####Loss function  \n",
        "binary_crossentropy"
      ],
      "metadata": {
        "id": "sPpCJOIuCan-"
      }
    },
    {
      "cell_type": "code",
      "source": [
        "model.compile(optimizer=  'adam',\n",
        "              loss='binary_crossentropy',\n",
        "              metrics=['accuracy']) \n",
        "history = model.fit(train_images_valid, train_labels_valid, batch_size=32, epochs=30)"
      ],
      "metadata": {
        "id": "FsGC7CbRClW-"
      },
      "execution_count": null,
      "outputs": []
    },
    {
      "cell_type": "code",
      "source": [
        "model.evaluate(train_images_valid, train_labels_valid)"
      ],
      "metadata": {
        "id": "xLlo9DjPClW_"
      },
      "execution_count": null,
      "outputs": []
    },
    {
      "cell_type": "code",
      "source": [
        "model.evaluate(test_images, test_labels)"
      ],
      "metadata": {
        "id": "G7ZMoVyJClW_"
      },
      "execution_count": null,
      "outputs": []
    },
    {
      "cell_type": "code",
      "source": [
        "print(\"binary_crossentropy\")\n",
        "plt.plot(history.history['loss'], label = 'loss')\n",
        "plt.plot(history.history['accuracy'], label = 'accuracy')\n",
        "plt.xlabel('epoch')\n",
        "plt.legend()"
      ],
      "metadata": {
        "id": "pw6L6lSiClW_"
      },
      "execution_count": null,
      "outputs": []
    },
    {
      "cell_type": "markdown",
      "source": [
        "MSE"
      ],
      "metadata": {
        "id": "QDgcBD5JCmX3"
      }
    },
    {
      "cell_type": "code",
      "source": [
        "model.compile(optimizer=  'adam',\n",
        "              loss='MSE',\n",
        "              metrics=['accuracy']) \n",
        "history = model.fit(train_images_valid, train_labels_valid, batch_size=32, epochs=30)"
      ],
      "metadata": {
        "id": "ZUv95fhzCl6I"
      },
      "execution_count": null,
      "outputs": []
    },
    {
      "cell_type": "code",
      "source": [
        "model.evaluate(train_images_valid, train_labels_valid)"
      ],
      "metadata": {
        "id": "kKdhycepCl6J"
      },
      "execution_count": null,
      "outputs": []
    },
    {
      "cell_type": "code",
      "source": [
        "model.evaluate(test_images, test_labels)"
      ],
      "metadata": {
        "id": "EZHz1ZCCCl6J"
      },
      "execution_count": null,
      "outputs": []
    },
    {
      "cell_type": "code",
      "source": [
        "print(\"MSE\")\n",
        "plt.plot(history.history['loss'], label = 'loss')\n",
        "plt.plot(history.history['accuracy'], label = 'accuracy')\n",
        "plt.xlabel('epoch')\n",
        "plt.legend()"
      ],
      "metadata": {
        "id": "D2e7kOL6Cl6J"
      },
      "execution_count": null,
      "outputs": []
    },
    {
      "cell_type": "markdown",
      "source": [
        "categorical_crossentropy가 다중분류에서 대표적이고 softmax와 짝으로 사용되기에 좋은 결과가 나올줄 알았는데 Accuracy차이가 없음  \n",
        "Epochs, batchsize를 줄여보아도 가시적인 결과가 나오지 않아 이 데이터셋에서 영향력이 작은 것으로 보임  \n",
        "데이터셋 변경, Optimizer과 연관성 확인 등 추가적인 검증 필요하다고 보여짐"
      ],
      "metadata": {
        "id": "NFroZEcZCY9k"
      }
    },
    {
      "cell_type": "markdown",
      "source": [
        "###프로젝트 분석\n",
        "\n",
        "Hyperparameter를 하나씩 비교해 봄으로써 각 인자의 기작과 데이터셋과의 \n",
        "연결에 대해 생각해보고 결과에 미치는 영향력을 확인할 수 있었음  \n",
        "\n",
        "batch size를 낮게 설정하면 시간이 오래걸림   \n",
        "(한 번에 많은 데이터 학습 시간< 조금씩 자주 학습 시간)  \n",
        " \n",
        "적은 데이터량과 한정적인 조건에서 실행하여 신뢰하기 힘들다고 판단됨  \n",
        "결과가 예상과 다르거나 다른 파라미터와 뚜렷한 차이가 없는 경우가 많았음  \n",
        "\n",
        "인자 하나만을 비교하여 인자 간의 연관 관계 파악이 어려움  \n",
        "\n",
        "모델 구조, DropOut, Callback 등 더 적용할 수 있는 인자에 대해 검증 필요성 느낌  "
      ],
      "metadata": {
        "id": "AwtHmWACDZ1q"
      }
    }
  ]
}