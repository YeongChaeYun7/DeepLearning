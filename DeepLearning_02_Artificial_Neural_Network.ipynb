{
  "nbformat": 4,
  "nbformat_minor": 0,
  "metadata": {
    "colab": {
      "provenance": [],
      "collapsed_sections": [],
      "authorship_tag": "ABX9TyOpYKAE4QPlo356GYOJV018"
    },
    "kernelspec": {
      "name": "python3",
      "display_name": "Python 3"
    },
    "language_info": {
      "name": "python"
    }
  },
  "cells": [
    {
      "cell_type": "markdown",
      "source": [
        "# Artificial Neural Network (ANN, 다층 퍼셉트론)\n",
        "\n",
        "퍼셉트론이라는 말은 어떻게 정의하느냐에 따라 가리키는 것이 달라진다.  \n",
        "일반적으로는 단층 퍼셉트론은 step function(임계값 이상은 1을 출력하는 함수)을 활성화 함수로 사용한 모델을 가리킨다.   \n",
        "다층 퍼셉트론은 층이 여러개인 네트워크로 퍼셉트론 기반의 인간 신경망 모사한 머신러닝 모델이다  \n",
        "\n",
        "보통 여러 계층으로 구조화되어있음(input, hidden, ouput layer) -> 비선형  \n",
        "각 층은 서로 교차되는 가중치 값으로 연결되어 있다  \n",
        "\n",
        "\n",
        "※ 은닉층의 개수가 1개인 신경망을 ANN, 2개 이상인 신경망을 DNN으로 구분하기도 함\n",
        "\n",
        "\n"
      ],
      "metadata": {
        "id": "ITVrwFP2aIag"
      }
    },
    {
      "cell_type": "markdown",
      "source": [
        "## 인공신경망으로 XOR 논리회로 구현  \n",
        "<XOR게이트 진리표>  \n",
        "\n",
        "|x1|x2|y|\n",
        "|:---:|:---:|:---:|\n",
        "|0|0|0|\n",
        "|1|0|1|\n",
        "|0|1|1|\n",
        "|1|1|0|\n",
        "\n",
        "XOR 논리회로는 하나의 직선으로밖에 구분못하는 퍼셉트론으로는 구현이 불가능하다.  \n",
        "선형분류만 가능한 점이 퍼셉트론의 한계이다.  \n",
        "비선형 함수를 통해 해결해야하기 때문에 다층 퍼셉트론, 인공신경망을 통해 풀어야 한다.\n",
        "\n",
        "\n",
        "XOR 게이트는 AND, NAND, OR 신경망을 모두 활용하여야 풀 수 있다.  \n",
        "input에 대한  NAND와 OR게이트의 출력을 AND 게이트에 input으로 한 출력으로 구할 수 있다. \n",
        "\n",
        "\n"
      ],
      "metadata": {
        "id": "8vSVeRSzIJX8"
      }
    },
    {
      "cell_type": "code",
      "source": [
        "import numpy as np"
      ],
      "metadata": {
        "id": "ERcnl8yhPGOO"
      },
      "execution_count": 1,
      "outputs": []
    },
    {
      "cell_type": "code",
      "source": [
        "def AND(x1,x2):\n",
        "    x = np.array([x1, x2])\n",
        "    w = np.array([0.5, 0.5])\n",
        "    b = -0.7\n",
        "    tmp = np.sum(w*x)+b\n",
        "    if tmp <= 0:\n",
        "        return 0\n",
        "    elif tmp > 0:\n",
        "        return 1\n",
        "\n",
        "def NAND(x1, x2):  \n",
        "  x = np.array([x1,x2])\n",
        "  w = np.array([-0.5,-0.5])\n",
        "  b = 0.7\n",
        "  tmp = np.sum(x*w)+ b \n",
        "  if tmp <= 0: \n",
        "    return 0\n",
        "  else: \n",
        "    return 1\n",
        "\n",
        "def OR(x1, x2):  \n",
        "  x = np.array([x1,x2])\n",
        "  w = np.array([0.5,0.5]) \n",
        "  b = -0.2\n",
        "  tmp = np.sum(x*w)+ b \n",
        "  if tmp <= 0: \n",
        "    return 0\n",
        "  else: \n",
        "    return 1"
      ],
      "metadata": {
        "id": "F9jbQIP6Xz4U"
      },
      "execution_count": 2,
      "outputs": []
    },
    {
      "cell_type": "code",
      "source": [
        "def XOR(x1, x2):\n",
        "  s1 = NAND(x1, x2)\n",
        "\n",
        "  s2 = OR(x1, x2)\n",
        "\n",
        "  y = AND(s1, s2)\n",
        "\n",
        "  return y\n",
        "\n",
        "print(XOR(0,0))\n",
        "print(XOR(1,0))\n",
        "print(XOR(0,1))\n",
        "print(XOR(1,1))"
      ],
      "metadata": {
        "colab": {
          "base_uri": "https://localhost:8080/"
        },
        "id": "b34gRgbQPS0g",
        "outputId": "43d07c17-2d04-4ca3-9c57-d542d203b8f5"
      },
      "execution_count": 3,
      "outputs": [
        {
          "output_type": "stream",
          "name": "stdout",
          "text": [
            "0\n",
            "1\n",
            "1\n",
            "0\n"
          ]
        }
      ]
    },
    {
      "cell_type": "markdown",
      "source": [
        "XOR 게이트 이외에 더 복잡한 다층구조문제들도 퍼셉트론을 여러 층을 쌓아 해결할 수 있다  \n"
      ],
      "metadata": {
        "id": "6DiLWYA5h1vr"
      }
    }
  ]
}