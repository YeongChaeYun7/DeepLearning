{
  "nbformat": 4,
  "nbformat_minor": 0,
  "metadata": {
    "colab": {
      "provenance": [],
      "collapsed_sections": []
    },
    "kernelspec": {
      "name": "python3",
      "display_name": "Python 3"
    },
    "language_info": {
      "name": "python"
    },
    "accelerator": "GPU"
  },
  "cells": [
    {
      "cell_type": "markdown",
      "source": [
        "# Keras를 활용한 손글씨 인식 cnn 모델 구현 실습"
      ],
      "metadata": {
        "id": "jMEft5qDD8AW"
      }
    },
    {
      "cell_type": "markdown",
      "source": [
        "###목표   \n",
        "손글씨 이미지를 입력값으로 넣어주면 모델이 인식하여 숫자 0~9 사이의 정확한 output 출력  \n",
        "  \n",
        "###데이터 준비와 전처리  \n",
        "MNIST Dataset  \n",
        "총 70,000개의 손글씨 숫자(0 ~ 9 digits) 이미지로 구성.  \n",
        "그중 60,000개는 모델을 훈련시킬 때 쓰일 Training data이고 10,000개는 모델을 테스트할 때 쓰일 Test data로 이루어짐  \n",
        "  \n",
        "Keras를 이용해 데이터 호출  \n",
        "train_images 모델 트레이닝을 위한 28x28크기의 matrix로 표현된 이미지 60,000개  \n",
        "train_labels 모델 트레이닝을 위한 60,000개의 숫자(integer 0 ~ 9) 라벨(label)\n",
        "모델 구현 후 테스팅을 위한 28x28크기의 matrix로 표현된 이미지 10,000개   \n",
        "test_labels 모델 구현 후 테스팅을 위한 10,000개의 숫자(integer 0~9) 라벨  "
      ],
      "metadata": {
        "id": "FQ_YF7ADEkWh"
      }
    },
    {
      "cell_type": "code",
      "metadata": {
        "colab": {
          "base_uri": "https://localhost:8080/"
        },
        "id": "IL5vZQKcmn3-",
        "outputId": "f6dd1236-71ee-49d1-9b2a-ff447cd40f83"
      },
      "source": [
        "from google.colab import drive\n",
        "drive.mount('/content/drive')"
      ],
      "execution_count": 1,
      "outputs": [
        {
          "output_type": "stream",
          "name": "stdout",
          "text": [
            "Mounted at /content/drive\n"
          ]
        }
      ]
    },
    {
      "cell_type": "code",
      "metadata": {
        "id": "ljuxGNBmmvN8"
      },
      "source": [
        "# 관련 라이브러리 선언\n",
        "from tensorflow.keras import datasets, layers, models\n",
        "from tensorflow.keras.models import load_model\n",
        "\n",
        "import numpy as np\n",
        "import matplotlib.pyplot as plt"
      ],
      "execution_count": 2,
      "outputs": []
    },
    {
      "cell_type": "code",
      "metadata": {
        "id": "neOY3rlamwtT",
        "colab": {
          "base_uri": "https://localhost:8080/"
        },
        "outputId": "16b0ed93-2f19-433a-f901-e9a70f0d4089"
      },
      "source": [
        "# 학습 데이터 불러오기 및 전처리\n",
        "(train_images, train_labels), (test_images, test_labels) = datasets.mnist.load_data()\n",
        "train_images = train_images.reshape((60000, 28, 28, 1))\n",
        "test_images = test_images.reshape((10000, 28, 28, 1))\n",
        "train_images, test_images = train_images / 255.0, test_images / 255.0"
      ],
      "execution_count": 3,
      "outputs": [
        {
          "output_type": "stream",
          "name": "stdout",
          "text": [
            "Downloading data from https://storage.googleapis.com/tensorflow/tf-keras-datasets/mnist.npz\n",
            "11493376/11490434 [==============================] - 0s 0us/step\n",
            "11501568/11490434 [==============================] - 0s 0us/step\n"
          ]
        }
      ]
    },
    {
      "cell_type": "code",
      "source": [
        "train_images[0].dtype"
      ],
      "metadata": {
        "colab": {
          "base_uri": "https://localhost:8080/"
        },
        "id": "r4a9zP8hFmcD",
        "outputId": "9cae69d9-f10a-41da-e3e2-71de7e0f278e"
      },
      "execution_count": 4,
      "outputs": [
        {
          "output_type": "execute_result",
          "data": {
            "text/plain": [
              "dtype('float64')"
            ]
          },
          "metadata": {},
          "execution_count": 4
        }
      ]
    },
    {
      "cell_type": "code",
      "source": [
        "# 이미지 전처리\n",
        "# 이미지 데이터(x값) 모양을 28x28에서 28x28x1로 reshape \n",
        "train_images_vec= train_images.reshape((60000,28,28,1))\n",
        "test_images_vec= test_images.reshape((10000,28,28,1))"
      ],
      "metadata": {
        "id": "Wh6f3U_TGA8E"
      },
      "execution_count": 5,
      "outputs": []
    },
    {
      "cell_type": "code",
      "source": [
        "# 라벨 전처리(0~9 integer). 원핫인코딩\n",
        "# One-hot Encoding 단 하나의 값만 1(true)이고 나머지 값은 모두 0(false)인 데이터 형태를 의미. 컴퓨터가 인식하고 학습하기에 용이하게해줌\n",
        "def one_hot_encoding(labels,demension=10):\n",
        "  res = np.zeros((len(labels),demension)) \n",
        "  for i , label in enumerate(labels): # enumerate로 리스트에 인덱스(i) 부여\n",
        "    res[i,label] = 1.\n",
        "  return res\n",
        "\n",
        "train_labels_vec = one_hot_encoding(train_labels)\n",
        "test_labels_vec = one_hot_encoding(test_labels)\n",
        "\n",
        "print(train_labels_vec.shape)\n",
        "print(test_labels_vec.shape)"
      ],
      "metadata": {
        "colab": {
          "base_uri": "https://localhost:8080/"
        },
        "id": "ZJ1zKJy2GkqT",
        "outputId": "52d6f3e4-01ee-433b-e7ce-e2f47b1bcb46"
      },
      "execution_count": 6,
      "outputs": [
        {
          "output_type": "stream",
          "name": "stdout",
          "text": [
            "(60000, 10)\n",
            "(10000, 10)\n"
          ]
        }
      ]
    },
    {
      "cell_type": "code",
      "source": [
        "# 비교용. 원핫 처리 전후\n",
        "print(train_labels[2])\n",
        "print(train_labels_vec[2])"
      ],
      "metadata": {
        "colab": {
          "base_uri": "https://localhost:8080/"
        },
        "id": "dYIZwPG4JjC-",
        "outputId": "d72a7377-eea2-4e24-8d84-23d914e4c935"
      },
      "execution_count": 7,
      "outputs": [
        {
          "output_type": "stream",
          "name": "stdout",
          "text": [
            "4\n",
            "[0. 0. 0. 0. 1. 0. 0. 0. 0. 0.]\n"
          ]
        }
      ]
    },
    {
      "cell_type": "markdown",
      "source": [
        "training data의 일부분을 잘라 validation 데이터 만들어주기  \n",
        "validation data는 중간 트레이닝 검증 목적으로 overfitting 방지 효과  \n",
        "1/5 떼서 넣음"
      ],
      "metadata": {
        "id": "lRfeSjx3KK8L"
      }
    },
    {
      "cell_type": "code",
      "source": [
        "rand_indices = np.random.permutation(60000)\n",
        "valid_indices = rand_indices[50000:60000]\n",
        "train_indices = rand_indices[0:50000]\n",
        "\n",
        "train_images_valid = train_images_vec[valid_indices, :, :, :]  # valid\n",
        "train_labels_valid = train_labels_vec[valid_indices, :]\n",
        "\n",
        "train_images_vec = train_images_vec[train_indices, :, :, :] # 업뎃\n",
        "train_labels_vec = train_labels_vec[train_indices, :]\n",
        "\n",
        "print(train_images_valid.shape) \n",
        "print(train_labels_valid.shape) # validation data = 10000\n",
        "print(train_images_vec.shape)\n",
        "print(train_labels_vec.shape) # training data = 50000"
      ],
      "metadata": {
        "colab": {
          "base_uri": "https://localhost:8080/"
        },
        "id": "Y8cZp86VKh7Q",
        "outputId": "d02c9fb6-51cc-4d27-bce4-40c07f9e0f04"
      },
      "execution_count": 8,
      "outputs": [
        {
          "output_type": "stream",
          "name": "stdout",
          "text": [
            "(10000, 28, 28, 1)\n",
            "(10000, 10)\n",
            "(50000, 28, 28, 1)\n",
            "(50000, 10)\n"
          ]
        }
      ]
    },
    {
      "cell_type": "markdown",
      "source": [
        "분류 완료  \n",
        "트레이닝 50000  \n",
        "발리데이션 10000  \n",
        "테스트 데이터 10000  "
      ],
      "metadata": {
        "id": "TL9Fnd6jPMEN"
      }
    },
    {
      "cell_type": "markdown",
      "source": [
        "모델 구현, 트레이닝"
      ],
      "metadata": {
        "id": "y45rTZ2mEyCU"
      }
    },
    {
      "cell_type": "code",
      "source": [
        "model = models.Sequential()\n",
        "\n",
        "model.add(layers.Conv2D(filters= 10, kernel_size=(5,5), activation='relu', input_shape=(28, 28, 1))) # Convolutional layer\n",
        "\n",
        "model.add(layers.MaxPooling2D((2, 2))) # MaxPooling2D클래스\n",
        "model.add(layers.Conv2D(filters= 20, kernel_size=(5,5), activation='relu'))\n",
        "model.add(layers.MaxPooling2D((2, 2)))\n",
        "\n",
        "model.add(layers.Flatten())\n",
        "model.add(layers.Dense(64, activation='relu'))\n",
        "model.add(layers.Dense(10, activation='softmax'))\n",
        "\n",
        "model.summary()"
      ],
      "metadata": {
        "colab": {
          "base_uri": "https://localhost:8080/"
        },
        "id": "R3B726QSPiRi",
        "outputId": "a5b1b6f1-76c5-4f70-8d1b-da2741a55e09"
      },
      "execution_count": 9,
      "outputs": [
        {
          "output_type": "stream",
          "name": "stdout",
          "text": [
            "Model: \"sequential\"\n",
            "_________________________________________________________________\n",
            " Layer (type)                Output Shape              Param #   \n",
            "=================================================================\n",
            " conv2d (Conv2D)             (None, 24, 24, 10)        260       \n",
            "                                                                 \n",
            " max_pooling2d (MaxPooling2D  (None, 12, 12, 10)       0         \n",
            " )                                                               \n",
            "                                                                 \n",
            " conv2d_1 (Conv2D)           (None, 8, 8, 20)          5020      \n",
            "                                                                 \n",
            " max_pooling2d_1 (MaxPooling  (None, 4, 4, 20)         0         \n",
            " 2D)                                                             \n",
            "                                                                 \n",
            " flatten (Flatten)           (None, 320)               0         \n",
            "                                                                 \n",
            " dense (Dense)               (None, 64)                20544     \n",
            "                                                                 \n",
            " dense_1 (Dense)             (None, 10)                650       \n",
            "                                                                 \n",
            "=================================================================\n",
            "Total params: 26,474\n",
            "Trainable params: 26,474\n",
            "Non-trainable params: 0\n",
            "_________________________________________________________________\n"
          ]
        }
      ]
    },
    {
      "cell_type": "code",
      "source": [
        "# CNN 네트워크 시각화\n",
        "from tensorflow.keras.utils import plot_model\n",
        "# from keras.utils import plot_model\n",
        "plot_model(model, to_file='model.png', show_shapes=True)"
      ],
      "metadata": {
        "colab": {
          "base_uri": "https://localhost:8080/",
          "height": 865
        },
        "id": "OA-WgzbgRHhw",
        "outputId": "3f8720d2-54a8-41e4-9e46-48a387d058a5"
      },
      "execution_count": 10,
      "outputs": [
        {
          "output_type": "execute_result",
          "data": {
            "image/png": "[encoded data removed]",
            "text/plain": [
              "<IPython.core.display.Image object>"
            ]
          },
          "metadata": {},
          "execution_count": 10
        }
      ]
    },
    {
      "cell_type": "markdown",
      "source": [
        "  베이스 라인 \n",
        "  "
      ],
      "metadata": {
        "id": "95j_XibIvngE"
      }
    },
    {
      "cell_type": "code",
      "source": [
        "# 훈련설정 Optimizer로 RMSprop을 사용\n",
        "from tensorflow.keras.optimizers import RMSprop\n",
        "model.compile(optimizer=  RMSprop(lr=0.0001),\n",
        "              loss='categorical_crossentropy',\n",
        "              metrics=['accuracy'])"
      ],
      "metadata": {
        "id": "pHHrO5zNRaMt"
      },
      "execution_count": 14,
      "outputs": []
    },
    {
      "cell_type": "code",
      "source": [
        "#fit메소드를 사용하여 모델 트레이닝 \n",
        "# batch_size=128, epochs=50 \n",
        "history = model.fit(train_images_valid, train_labels_valid, batch_size=128, epochs=30)"
      ],
      "metadata": {
        "colab": {
          "base_uri": "https://localhost:8080/"
        },
        "id": "52zzpKBCSCQM",
        "outputId": "309040c6-4a34-4b57-956e-e143723f8db2"
      },
      "execution_count": 15,
      "outputs": [
        {
          "output_type": "stream",
          "name": "stdout",
          "text": [
            "Epoch 1/30\n",
            "79/79 [==============================] - 1s 4ms/step - loss: 0.1285 - accuracy: 0.9634\n",
            "Epoch 2/30\n",
            "79/79 [==============================] - 0s 4ms/step - loss: 0.1248 - accuracy: 0.9622\n",
            "Epoch 3/30\n",
            "79/79 [==============================] - 0s 4ms/step - loss: 0.1213 - accuracy: 0.9638\n",
            "Epoch 4/30\n",
            "79/79 [==============================] - 0s 4ms/step - loss: 0.1178 - accuracy: 0.9649\n",
            "Epoch 5/30\n",
            "79/79 [==============================] - 0s 4ms/step - loss: 0.1138 - accuracy: 0.9659\n",
            "Epoch 6/30\n",
            "79/79 [==============================] - 0s 4ms/step - loss: 0.1117 - accuracy: 0.9675\n",
            "Epoch 7/30\n",
            "79/79 [==============================] - 0s 4ms/step - loss: 0.1084 - accuracy: 0.9690\n",
            "Epoch 8/30\n",
            "79/79 [==============================] - 0s 4ms/step - loss: 0.1045 - accuracy: 0.9695\n",
            "Epoch 9/30\n",
            "79/79 [==============================] - 1s 7ms/step - loss: 0.1034 - accuracy: 0.9697\n",
            "Epoch 10/30\n",
            "79/79 [==============================] - 1s 7ms/step - loss: 0.1011 - accuracy: 0.9719\n",
            "Epoch 11/30\n",
            "79/79 [==============================] - 0s 6ms/step - loss: 0.0982 - accuracy: 0.9718\n",
            "Epoch 12/30\n",
            "79/79 [==============================] - 0s 4ms/step - loss: 0.0964 - accuracy: 0.9728\n",
            "Epoch 13/30\n",
            "79/79 [==============================] - 0s 5ms/step - loss: 0.0937 - accuracy: 0.9732\n",
            "Epoch 14/30\n",
            "79/79 [==============================] - 0s 4ms/step - loss: 0.0919 - accuracy: 0.9738\n",
            "Epoch 15/30\n",
            "79/79 [==============================] - 0s 4ms/step - loss: 0.0894 - accuracy: 0.9742\n",
            "Epoch 16/30\n",
            "79/79 [==============================] - 0s 4ms/step - loss: 0.0876 - accuracy: 0.9750\n",
            "Epoch 17/30\n",
            "79/79 [==============================] - 0s 4ms/step - loss: 0.0861 - accuracy: 0.9757\n",
            "Epoch 18/30\n",
            "79/79 [==============================] - 0s 4ms/step - loss: 0.0839 - accuracy: 0.9759\n",
            "Epoch 19/30\n",
            "79/79 [==============================] - 0s 4ms/step - loss: 0.0823 - accuracy: 0.9754\n",
            "Epoch 20/30\n",
            "79/79 [==============================] - 0s 4ms/step - loss: 0.0802 - accuracy: 0.9764\n",
            "Epoch 21/30\n",
            "79/79 [==============================] - 0s 4ms/step - loss: 0.0791 - accuracy: 0.9777\n",
            "Epoch 22/30\n",
            "79/79 [==============================] - 0s 4ms/step - loss: 0.0778 - accuracy: 0.9780\n",
            "Epoch 23/30\n",
            "79/79 [==============================] - 0s 5ms/step - loss: 0.0754 - accuracy: 0.9776\n",
            "Epoch 24/30\n",
            "79/79 [==============================] - 0s 4ms/step - loss: 0.0745 - accuracy: 0.9793\n",
            "Epoch 25/30\n",
            "79/79 [==============================] - 0s 4ms/step - loss: 0.0729 - accuracy: 0.9796\n",
            "Epoch 26/30\n",
            "79/79 [==============================] - 0s 4ms/step - loss: 0.0710 - accuracy: 0.9803\n",
            "Epoch 27/30\n",
            "79/79 [==============================] - 0s 4ms/step - loss: 0.0703 - accuracy: 0.9809\n",
            "Epoch 28/30\n",
            "79/79 [==============================] - 0s 4ms/step - loss: 0.0693 - accuracy: 0.9799\n",
            "Epoch 29/30\n",
            "79/79 [==============================] - 0s 4ms/step - loss: 0.0683 - accuracy: 0.9808\n",
            "Epoch 30/30\n",
            "79/79 [==============================] - 0s 4ms/step - loss: 0.0665 - accuracy: 0.9820\n"
          ]
        }
      ]
    },
    {
      "cell_type": "markdown",
      "source": [
        "모델 평가"
      ],
      "metadata": {
        "id": "eLKpfVGXd0Eb"
      }
    },
    {
      "cell_type": "code",
      "source": [
        "# training data\n",
        "model.evaluate(train_images_valid, train_labels_valid)"
      ],
      "metadata": {
        "colab": {
          "base_uri": "https://localhost:8080/"
        },
        "id": "zk76JlPqdzNV",
        "outputId": "bd229b0d-c789-4017-a3ed-8986e05beab9"
      },
      "execution_count": 19,
      "outputs": [
        {
          "output_type": "stream",
          "name": "stdout",
          "text": [
            "313/313 [==============================] - 1s 3ms/step - loss: 0.0659 - accuracy: 0.9818\n"
          ]
        },
        {
          "output_type": "execute_result",
          "data": {
            "text/plain": [
              "[0.0658888891339302, 0.9818000197410583]"
            ]
          },
          "metadata": {},
          "execution_count": 19
        }
      ]
    },
    {
      "cell_type": "code",
      "source": [
        "# test data\n",
        "model.evaluate(test_images_vec, test_labels_vec)"
      ],
      "metadata": {
        "colab": {
          "base_uri": "https://localhost:8080/"
        },
        "id": "GENAVGn-VcRd",
        "outputId": "d04c9956-251a-4938-efe0-e9049e7190be"
      },
      "execution_count": 20,
      "outputs": [
        {
          "output_type": "stream",
          "name": "stdout",
          "text": [
            "313/313 [==============================] - 1s 3ms/step - loss: 0.0960 - accuracy: 0.9689\n"
          ]
        },
        {
          "output_type": "execute_result",
          "data": {
            "text/plain": [
              "[0.09603606909513474, 0.9689000248908997]"
            ]
          },
          "metadata": {},
          "execution_count": 20
        }
      ]
    }
  ]
}