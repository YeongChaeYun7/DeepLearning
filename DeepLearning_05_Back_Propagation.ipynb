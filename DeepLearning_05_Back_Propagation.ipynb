{
  "nbformat": 4,
  "nbformat_minor": 0,
  "metadata": {
    "colab": {
      "provenance": [],
      "collapsed_sections": [],
      "authorship_tag": "ABX9TyMG2ZjcJFenF7gTENAO6YHf"
    },
    "kernelspec": {
      "name": "python3",
      "display_name": "Python 3"
    },
    "language_info": {
      "name": "python"
    }
  },
  "cells": [
    {
      "cell_type": "code",
      "source": [
        "from tensorflow.keras import datasets, layers, models\n",
        "from tensorflow.keras.models import load_model\n",
        "import numpy as np\n",
        "import matplotlib.pyplot as plt\n",
        "from google.colab import drive\n",
        "drive.mount('/content/drive')"
      ],
      "metadata": {
        "id": "MKPCXzzTiIp_"
      },
      "execution_count": null,
      "outputs": []
    },
    {
      "cell_type": "markdown",
      "source": [
        "reference  \n",
        "'밑바닥부터 시작하는 딥러닝'의 오차역전파법 부분 참고"
      ],
      "metadata": {
        "id": "eTBzvrLRdBMM"
      }
    },
    {
      "cell_type": "markdown",
      "source": [
        "## Backpropagation 오차역전파\n",
        "\n",
        "인공신경망은 일반적으로 입력부터 출력까지 좌측에서 우측으로 진행 방향을 가짐  \n",
        "훈련을 위해 이와 반대방향으로 진행하는 것을 오차역전파라 함  \n",
        "이때,역방향이므로 노드 간 미분값을 전달함.  \n",
        "(순전파를 수행했을 때의 입력으로 들어온 값에 대해 입력 이후 계산 결과값이 얼마나 변화하는지에 대한 값)  \n",
        "컴퓨터가 예측값을 높이기 위해 출력값과 실제 예측하고자 하는 값을 비교하여 가중치를 변경하는 과정이다.  \n",
        "\n",
        ">오차역전파 과정\n",
        "1. 주어진 입력값에 상관없이, 임의의 초기 가증치를 은닉층에 넣어 결과 계산  \n",
        "2. 위의 결과와 실제 예측하고자 하는 값 사이의 오차 계산  \n",
        "3. 가중치 업데이트\n",
        "4. 오차가 줄어들지 않을때까지 1~3번 반복\n"
      ],
      "metadata": {
        "id": "mymvYCOjuO0L"
      }
    },
    {
      "cell_type": "markdown",
      "source": [
        "역전파 구현  \n",
        "한 박스에 100원 하는 사과박스를 2개 구입하고 소비세로 10%를 추가로 내야할 때의 연산"
      ],
      "metadata": {
        "id": "61PwiDKe_V9q"
      }
    },
    {
      "cell_type": "code",
      "source": [
        "import numpy as np"
      ],
      "metadata": {
        "id": "ERcnl8yhPGOO"
      },
      "execution_count": 1,
      "outputs": []
    },
    {
      "cell_type": "code",
      "source": [
        "class MulLayer: # 곱셈 계층\n",
        "    def __init__(self):\n",
        "        self.x = None\n",
        "        self.y = None\n",
        "        \n",
        "    def forward(self, x, y):\n",
        "        self.x = x\n",
        "        self.y = y\n",
        "        return x * y\n",
        "    \n",
        "    def backward(self, d_out):\n",
        "        # 순전파 시 입력을 서로 바꾸어서 곱해줌!\n",
        "        dx = d_out * self.y\n",
        "        dy = d_out * self.x\n",
        "        return dx, dy\n",
        "    \n",
        "apple_box = 100\n",
        "apple_box_num = 2\n",
        "tax = 1.1\n",
        "\n",
        "# 곱셈계층\n",
        "mul_apple_layer = MulLayer()\n",
        "mul_tax_layer = MulLayer()\n",
        "\n",
        "# 순전파 수행\n",
        "apple_box_price = mul_apple_layer.forward(apple_box, apple_box_num)\n",
        "price = mul_tax_layer.forward(apple_box_price, tax)\n",
        "print('순전파 수행 후 지불해야 할 최종 금액:', price)\n",
        "print()\n",
        "\n",
        "# 역전파 수행(순전파와 반대 순서로 호출)\n",
        "d_price = 1\n",
        "d_apple_box_price, d_tax = mul_tax_layer.backward(d_price)\n",
        "d_apple_box, d_apple_box_num = mul_apple_layer.backward(d_apple_box_price)\n",
        "print('역전파 수행 후 각 변수의 변화량 값')\n",
        "print('사과 박스 가격:', d_apple_box)\n",
        "print('사과 박스 개수:', d_apple_box_num)\n",
        "print('소비자세:', d_tax)\n"
      ],
      "metadata": {
        "colab": {
          "base_uri": "https://localhost:8080/"
        },
        "id": "iz1lgMGS_FSN",
        "outputId": "bbaad36a-dc0e-4fda-cef7-440d766ed1ff"
      },
      "execution_count": 2,
      "outputs": [
        {
          "output_type": "stream",
          "name": "stdout",
          "text": [
            "순전파 수행 후 지불해야 할 최종 금액: 220.00000000000003\n",
            "\n",
            "역전파 수행 후 각 변수의 변화량 값\n",
            "사과 박스 가격: 2.2\n",
            "사과 박스 개수: 110.00000000000001\n",
            "소비자세: 200\n"
          ]
        }
      ]
    },
    {
      "cell_type": "code",
      "source": [
        "class AddLayer:  # 덧셈 계층\n",
        "    def __init__(self):\n",
        "        pass\n",
        "    \n",
        "    def forward(self, x, y):\n",
        "        return x + y # 덧셈계층 계산식 z = x + y\n",
        "    \n",
        "    def backward(self, d_out):\n",
        "        dx = d_out * 1\n",
        "        dy = d_out * 1\n",
        "        return dx, dy\n",
        "\n",
        "# 국소적 계산관점에서 해석하기\n",
        "# x,y에 대한 z 미분은 1이기에 이전 노드의 미분값을 그대로 넘기는 것이 포인트"
      ],
      "metadata": {
        "id": "ZnaQOLqC_FKe"
      },
      "execution_count": 4,
      "outputs": []
    },
    {
      "cell_type": "markdown",
      "source": [
        "\n",
        "## Vanishing Gradient 기울기소실\n",
        "딥러닝에서 학습은 기울기가 작아지는 방향으로 업데이트를 반복하는 과정이다  \n",
        "시그모이드같은 활성화 함수의 경우에는 미분값이 작기 때문에   \n",
        "기울기가 실제 데이터 입력값에 비해 은닉층이나 출력층의 출력값이 작게 나올 수 있다  \n",
        "이 과정에서 작아진 기울기는 소실된 만큼 학습 효율을 저하시키기 때문에 문제였다  \n",
        "\n",
        "# 경사하강법  \n",
        "훈련시 사용되는 전체 데이터를 미분하여 기울기가 낮은 쪽으로 계속 이동시켜 극값을 구하면 이것을 예측값으로 확정하는 원리  \n",
        "적은 데이터 사용으로 더 빠르게 계산\n",
        "  \n",
        "- 확률적 경사하강법(Stochastic Gradient Descent, SGD)  \n",
        "한 번 업데이트 할 때마다 전체 데이터를 미분하여 진행속도가 느린 단점을 보완하기위해  \n",
        "랜덤추출한 데이터를 사용하는 확률적 경사하강법을 사용하기도 함  \n",
        "  \n",
        "- 모멘텀(Momentum)  \n",
        "모멘텀은 확률적 경사하강법에서 오차를 수정할 때 수정값과 방향을 참고하는 방법  \n",
        "관성 개념을 활용하여 로컬 미니멈에 빠져 기존 경사하강법으로는 기울기가 0이라서 계산이 끝났을 상황에서도   \n",
        "관성으로 값을 조절하여 로컬 미니멈을 넘을 수 있는 효과를 준다  \n",
        "\n"
      ],
      "metadata": {
        "id": "TH5W29rX_Sfe"
      }
    },
    {
      "cell_type": "code",
      "source": [
        "class SGD:\n",
        "\n",
        "    def __init__(self, lr=0.01):\n",
        "        self.lr = lr\n",
        "        \n",
        "    def update(self, params, grads):\n",
        "        for key in params.keys():\n",
        "            params[key] -= self.lr * grads[key] "
      ],
      "metadata": {
        "id": "TVtd6_faBi7O"
      },
      "execution_count": 5,
      "outputs": []
    },
    {
      "cell_type": "code",
      "source": [
        "class Momentum:\n",
        "\n",
        "    def __init__(self, lr=0.01, momentum=0.9):\n",
        "        self.lr = lr\n",
        "        self.momentum = momentum\n",
        "        self.v = None\n",
        "        \n",
        "    def update(self, params, grads):\n",
        "        if self.v is None:\n",
        "            self.v = {}\n",
        "            for key, val in params.items():                                \n",
        "                self.v[key] = np.zeros_like(val)\n",
        "                \n",
        "        for key in params.keys():\n",
        "            self.v[key] = self.momentum*self.v[key] - self.lr*grads[key] \n",
        "            params[key] += self.v[key]"
      ],
      "metadata": {
        "id": "QvbbHWW0Bjq7"
      },
      "execution_count": 6,
      "outputs": []
    }
  ]
}