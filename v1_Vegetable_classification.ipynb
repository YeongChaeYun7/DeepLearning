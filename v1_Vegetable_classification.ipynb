{
  "nbformat": 4,
  "nbformat_minor": 0,
  "metadata": {
    "colab": {
      "provenance": [],
      "collapsed_sections": [],
      "authorship_tag": "ABX9TyP0wALgsncA8OYUf8baM3ul"
    },
    "kernelspec": {
      "name": "python3",
      "display_name": "Python 3"
    },
    "language_info": {
      "name": "python"
    },
    "accelerator": "GPU"
  },
  "cells": [
    {
      "cell_type": "markdown",
      "source": [
        "v1  \n",
        "베이스 라인  "
      ],
      "metadata": {
        "id": "TpEMzZsaJnIs"
      }
    },
    {
      "cell_type": "markdown",
      "source": [
        "목표  \n",
        "CNN 모델만들어 이미지 분류  \n",
        "\n",
        "\n",
        "---\n",
        "CNN 이론 이해  \n",
        "텐서플로로 ㅅ구현하여 CNN의 동작과정을 이해하고자 한다  \n",
        "\n",
        "\n",
        "---\n",
        "데이터셋  \n",
        "\n",
        "채소모음 https://www.kaggle.com/datasets/kritikseth/fruit-and-vegetable-image-recognition  \n",
        "colab과 kaggle 연동하여 업로드  \n",
        "\n"
      ],
      "metadata": {
        "id": "LyzKRL1kwAQw"
      }
    },
    {
      "cell_type": "code",
      "source": [
        "import numpy as np\n",
        "import pandas as pd\n",
        "import matplotlib.pyplot as plt\n",
        "# import os\n",
        "import tensorflow as tf\n",
        "from keras.preprocessing.image import ImageDataGenerator\n",
        "from keras.applications.resnet_v2 import ResNet101V2\n",
        "from keras.models import Model, Sequential, load_model\n",
        "from keras.layers import Conv2D, Dense, Flatten, MaxPooling2D, Dropout, BatchNormalization\n",
        "#from keras.callbacks import EarlyStopping, ModelCheckpoint, ReduceLROnPlateau\n",
        "# import warnings\n",
        "# warnings.filterwarnings('ignore')"
      ],
      "metadata": {
        "id": "BJQfwWJ_1RVE"
      },
      "execution_count": null,
      "outputs": []
    },
    {
      "cell_type": "code",
      "source": [
        "#colab과 Kaggle 연동 및 다운로드\n",
        "!pip install kaggle  \n",
        "from google.colab import files  \n",
        "files.upload()  \n",
        "!mkdir -p ~/.kaggle  \n",
        "!cp kaggle.json ~/.kaggle/  # Kaggle.json (Kaggle API Token) upload\n",
        "!chmod 600 ~/.kaggle/kaggle.json  \n",
        "!kaggle datasets list -s english-french   \n",
        "!kaggle datasets download -d kritikseth/fruit-and-vegetable-image-recognition # 참고할 Kaggle API\n",
        "!unzip englishfrench-translations.zip  \n",
        "!ls"
      ],
      "metadata": {
        "colab": {
          "base_uri": "https://localhost:8080/",
          "height": 793
        },
        "id": "_4vycMqq-L1P",
        "outputId": "c9e0013c-9d3b-45e0-91b7-b047d950abee"
      },
      "execution_count": null,
      "outputs": [
        {
          "output_type": "stream",
          "name": "stdout",
          "text": [
            "Looking in indexes: https://pypi.org/simple, https://us-python.pkg.dev/colab-wheels/public/simple/\n",
            "Requirement already satisfied: kaggle in /usr/local/lib/python3.7/dist-packages (1.5.12)\n",
            "Requirement already satisfied: tqdm in /usr/local/lib/python3.7/dist-packages (from kaggle) (4.64.1)\n",
            "Requirement already satisfied: urllib3 in /usr/local/lib/python3.7/dist-packages (from kaggle) (1.24.3)\n",
            "Requirement already satisfied: python-dateutil in /usr/local/lib/python3.7/dist-packages (from kaggle) (2.8.2)\n",
            "Requirement already satisfied: requests in /usr/local/lib/python3.7/dist-packages (from kaggle) (2.23.0)\n",
            "Requirement already satisfied: six>=1.10 in /usr/local/lib/python3.7/dist-packages (from kaggle) (1.15.0)\n",
            "Requirement already satisfied: python-slugify in /usr/local/lib/python3.7/dist-packages (from kaggle) (6.1.2)\n",
            "Requirement already satisfied: certifi in /usr/local/lib/python3.7/dist-packages (from kaggle) (2022.9.24)\n",
            "Requirement already satisfied: text-unidecode>=1.3 in /usr/local/lib/python3.7/dist-packages (from python-slugify->kaggle) (1.3)\n",
            "Requirement already satisfied: chardet<4,>=3.0.2 in /usr/local/lib/python3.7/dist-packages (from requests->kaggle) (3.0.4)\n",
            "Requirement already satisfied: idna<3,>=2.5 in /usr/local/lib/python3.7/dist-packages (from requests->kaggle) (2.10)\n"
          ]
        },
        {
          "output_type": "display_data",
          "data": {
            "text/plain": [
              "<IPython.core.display.HTML object>"
            ],
            "text/html": [
              "\n",
              "     <input type=\"file\" id=\"files-8f063a09-38cc-431d-a92a-49812eff0aba\" name=\"files[]\" multiple disabled\n",
              "        style=\"border:none\" />\n",
              "     <output id=\"result-8f063a09-38cc-431d-a92a-49812eff0aba\">\n",
              "      Upload widget is only available when the cell has been executed in the\n",
              "      current browser session. Please rerun this cell to enable.\n",
              "      </output>\n",
              "      <script>// Copyright 2017 Google LLC\n",
              "//\n",
              "// Licensed under the Apache License, Version 2.0 (the \"License\");\n",
              "// you may not use this file except in compliance with the License.\n",
              "// You may obtain a copy of the License at\n",
              "//\n",
              "//      http://www.apache.org/licenses/LICENSE-2.0\n",
              "//\n",
              "// Unless required by applicable law or agreed to in writing, software\n",
              "// distributed under the License is distributed on an \"AS IS\" BASIS,\n",
              "// WITHOUT WARRANTIES OR CONDITIONS OF ANY KIND, either express or implied.\n",
              "// See the License for the specific language governing permissions and\n",
              "// limitations under the License.\n",
              "\n",
              "/**\n",
              " * @fileoverview Helpers for google.colab Python module.\n",
              " */\n",
              "(function(scope) {\n",
              "function span(text, styleAttributes = {}) {\n",
              "  const element = document.createElement('span');\n",
              "  element.textContent = text;\n",
              "  for (const key of Object.keys(styleAttributes)) {\n",
              "    element.style[key] = styleAttributes[key];\n",
              "  }\n",
              "  return element;\n",
              "}\n",
              "\n",
              "// Max number of bytes which will be uploaded at a time.\n",
              "const MAX_PAYLOAD_SIZE = 100 * 1024;\n",
              "\n",
              "function _uploadFiles(inputId, outputId) {\n",
              "  const steps = uploadFilesStep(inputId, outputId);\n",
              "  const outputElement = document.getElementById(outputId);\n",
              "  // Cache steps on the outputElement to make it available for the next call\n",
              "  // to uploadFilesContinue from Python.\n",
              "  outputElement.steps = steps;\n",
              "\n",
              "  return _uploadFilesContinue(outputId);\n",
              "}\n",
              "\n",
              "// This is roughly an async generator (not supported in the browser yet),\n",
              "// where there are multiple asynchronous steps and the Python side is going\n",
              "// to poll for completion of each step.\n",
              "// This uses a Promise to block the python side on completion of each step,\n",
              "// then passes the result of the previous step as the input to the next step.\n",
              "function _uploadFilesContinue(outputId) {\n",
              "  const outputElement = document.getElementById(outputId);\n",
              "  const steps = outputElement.steps;\n",
              "\n",
              "  const next = steps.next(outputElement.lastPromiseValue);\n",
              "  return Promise.resolve(next.value.promise).then((value) => {\n",
              "    // Cache the last promise value to make it available to the next\n",
              "    // step of the generator.\n",
              "    outputElement.lastPromiseValue = value;\n",
              "    return next.value.response;\n",
              "  });\n",
              "}\n",
              "\n",
              "/**\n",
              " * Generator function which is called between each async step of the upload\n",
              " * process.\n",
              " * @param {string} inputId Element ID of the input file picker element.\n",
              " * @param {string} outputId Element ID of the output display.\n",
              " * @return {!Iterable<!Object>} Iterable of next steps.\n",
              " */\n",
              "function* uploadFilesStep(inputId, outputId) {\n",
              "  const inputElement = document.getElementById(inputId);\n",
              "  inputElement.disabled = false;\n",
              "\n",
              "  const outputElement = document.getElementById(outputId);\n",
              "  outputElement.innerHTML = '';\n",
              "\n",
              "  const pickedPromise = new Promise((resolve) => {\n",
              "    inputElement.addEventListener('change', (e) => {\n",
              "      resolve(e.target.files);\n",
              "    });\n",
              "  });\n",
              "\n",
              "  const cancel = document.createElement('button');\n",
              "  inputElement.parentElement.appendChild(cancel);\n",
              "  cancel.textContent = 'Cancel upload';\n",
              "  const cancelPromise = new Promise((resolve) => {\n",
              "    cancel.onclick = () => {\n",
              "      resolve(null);\n",
              "    };\n",
              "  });\n",
              "\n",
              "  // Wait for the user to pick the files.\n",
              "  const files = yield {\n",
              "    promise: Promise.race([pickedPromise, cancelPromise]),\n",
              "    response: {\n",
              "      action: 'starting',\n",
              "    }\n",
              "  };\n",
              "\n",
              "  cancel.remove();\n",
              "\n",
              "  // Disable the input element since further picks are not allowed.\n",
              "  inputElement.disabled = true;\n",
              "\n",
              "  if (!files) {\n",
              "    return {\n",
              "      response: {\n",
              "        action: 'complete',\n",
              "      }\n",
              "    };\n",
              "  }\n",
              "\n",
              "  for (const file of files) {\n",
              "    const li = document.createElement('li');\n",
              "    li.append(span(file.name, {fontWeight: 'bold'}));\n",
              "    li.append(span(\n",
              "        `(${file.type || 'n/a'}) - ${file.size} bytes, ` +\n",
              "        `last modified: ${\n",
              "            file.lastModifiedDate ? file.lastModifiedDate.toLocaleDateString() :\n",
              "                                    'n/a'} - `));\n",
              "    const percent = span('0% done');\n",
              "    li.appendChild(percent);\n",
              "\n",
              "    outputElement.appendChild(li);\n",
              "\n",
              "    const fileDataPromise = new Promise((resolve) => {\n",
              "      const reader = new FileReader();\n",
              "      reader.onload = (e) => {\n",
              "        resolve(e.target.result);\n",
              "      };\n",
              "      reader.readAsArrayBuffer(file);\n",
              "    });\n",
              "    // Wait for the data to be ready.\n",
              "    let fileData = yield {\n",
              "      promise: fileDataPromise,\n",
              "      response: {\n",
              "        action: 'continue',\n",
              "      }\n",
              "    };\n",
              "\n",
              "    // Use a chunked sending to avoid message size limits. See b/62115660.\n",
              "    let position = 0;\n",
              "    do {\n",
              "      const length = Math.min(fileData.byteLength - position, MAX_PAYLOAD_SIZE);\n",
              "      const chunk = new Uint8Array(fileData, position, length);\n",
              "      position += length;\n",
              "\n",
              "      const base64 = btoa(String.fromCharCode.apply(null, chunk));\n",
              "      yield {\n",
              "        response: {\n",
              "          action: 'append',\n",
              "          file: file.name,\n",
              "          data: base64,\n",
              "        },\n",
              "      };\n",
              "\n",
              "      let percentDone = fileData.byteLength === 0 ?\n",
              "          100 :\n",
              "          Math.round((position / fileData.byteLength) * 100);\n",
              "      percent.textContent = `${percentDone}% done`;\n",
              "\n",
              "    } while (position < fileData.byteLength);\n",
              "  }\n",
              "\n",
              "  // All done.\n",
              "  yield {\n",
              "    response: {\n",
              "      action: 'complete',\n",
              "    }\n",
              "  };\n",
              "}\n",
              "\n",
              "scope.google = scope.google || {};\n",
              "scope.google.colab = scope.google.colab || {};\n",
              "scope.google.colab._files = {\n",
              "  _uploadFiles,\n",
              "  _uploadFilesContinue,\n",
              "};\n",
              "})(self);\n",
              "</script> "
            ]
          },
          "metadata": {}
        },
        {
          "output_type": "stream",
          "name": "stdout",
          "text": [
            "Saving kaggle.json to kaggle.json\n",
            "ref                                               title                                              size  lastUpdated          downloadCount  voteCount  usabilityRating  \n",
            "------------------------------------------------  ------------------------------------------------  -----  -------------------  -------------  ---------  ---------------  \n",
            "dhruvildave/en-fr-translation-dataset             English-French Translation Dataset                  3GB  2021-02-09 19:27:52           1288         35  1.0              \n",
            "devicharith/language-translation-englishfrench    Language Translation (English-French)               4MB  2020-04-08 11:35:32           1142         31  0.8235294        \n",
            "digvijayyadav/frenchenglish                       English to French translations                      6MB  2020-07-27 16:22:20            305         17  1.0              \n",
            "jannesklaas/frenchenglish-bilingual-pairs         French-English Bilingual Pairs                      6MB  2018-04-23 21:10:55            838          6  0.75             \n",
            "harishreddy18/english-to-french                   english to french                                   2MB  2019-05-24 10:40:36            685          4  0.5294118        \n",
            "dhruvildave/wikibooks-dataset                     Wikibooks Dataset                                   2GB  2021-10-22 10:48:21           4397        329  1.0              \n",
            "bryanb/phrases-and-sayings                        Dataset of English, Chinese and French proverbs   167KB  2021-08-02 18:36:49            233         18  0.9117647        \n",
            "zarajamshaid/language-identification-datasst      Language Identification dataset                     6MB  2018-12-19 18:12:23           2452         39  1.0              \n",
            "basilb2s/language-detection                       Language Detection                                542KB  2021-02-10 17:32:15           2981         44  1.0              \n",
            "mohamedhanyyy/top-football-leagues-scorers        Top Football Leagues Scorers                       18KB  2020-12-04 18:30:38           2947         64  1.0              \n",
            "khajasafiuddin/englishfrench-corpus               English-French Corpus                             199MB  2020-07-20 05:29:56             63          3  0.75             \n",
            "mouadriali/iemocap-transcriptions-english-french  IEMOCAP - Transcriptions (English, French)/Audio    6GB  2022-05-09 07:55:22             43          9  0.64705884       \n",
            "hbaflast/french-twitter-sentiment-analysis        French Twitter Sentiment Analysis                  48MB  2020-01-24 13:13:28           1593         24  1.0              \n",
            "datatangai/french-speaking-english-speech-data    Datatang French Speaking English Speech Data       96KB  2021-11-04 10:28:46             10          8  0.75             \n",
            "faouzimohamed/englishfrench-fornmt                English/French sentences                            9MB  2021-06-01 10:53:40             42          3  0.5294118        \n",
            "rtatman/stopword-lists-for-19-languages           Stopword Lists for 19 Languages                    22KB  2017-07-27 22:08:45           2978         87  0.875            \n",
            "varpit94/football-teams-rankings-stats            Football teams | Rankings | Stats                   2KB  2021-07-26 16:47:35           1886         44  1.0              \n",
            "adewoleakorede/english-french-translation         English - French Translation                       18MB  2022-09-05 21:05:22              9          2  0.5294118        \n",
            "folaraz/world-countries-and-continents-details    World Countries and Continents Details             24KB  2017-10-05 08:32:23           1320         13  0.8235294        \n",
            "zusmani/the-holy-quran                            The Holy Quran                                     10MB  2017-11-20 09:46:11           4642        425  0.7647059        \n",
            "Downloading fruit-and-vegetable-image-recognition.zip to /content\n",
            " 99% 1.97G/1.98G [00:17<00:00, 141MB/s]\n",
            "100% 1.98G/1.98G [00:17<00:00, 123MB/s]\n",
            "unzip:  cannot find or open englishfrench-translations.zip, englishfrench-translations.zip.zip or englishfrench-translations.zip.ZIP.\n",
            "fruit-and-vegetable-image-recognition.zip  kaggle.json\tsample_data\n"
          ]
        }
      ]
    },
    {
      "cell_type": "code",
      "source": [
        "# zip 풀기\n",
        "%cd \"/content/\"\n",
        "!unzip -qq \"/content/fruit-and-vegetable-image-recognition.zip\""
      ],
      "metadata": {
        "colab": {
          "base_uri": "https://localhost:8080/"
        },
        "id": "XrzVQ-l5En00",
        "outputId": "b70a80b4-45f6-4217-8694-e6be7624cabc"
      },
      "execution_count": null,
      "outputs": [
        {
          "output_type": "stream",
          "name": "stdout",
          "text": [
            "/content\n"
          ]
        }
      ]
    },
    {
      "cell_type": "markdown",
      "source": [
        "# 데이터셋 데이터 전처리"
      ],
      "metadata": {
        "id": "EdyaD_n8LsAQ"
      }
    },
    {
      "cell_type": "markdown",
      "source": [
        "Image DataGenerator  \n",
        "이미지를 학습시킬 때 학습데이터의 양이 적을 경우\n",
        "\n",
        "학습데이터를 조금씩 변형시켜서 학습데이터의 양을 늘리는 방식중에 하나  \n",
        "\n",
        "감자 이미지를 1 픽셀 옆으로 민다고 고구마 이미지가 되진 않는다.  \n",
        "회전, 확대, 이동, 반전 등의 효과를 적용해도 감자는 여전히 감자이다.  \n",
        "하지만 픽셀 데이터 상으로는 완전히 다른 데이터이므로 이 점을 이용해 데이터 증식과 위치이동이나 회전에 대한 학습도 진행할 수 있다"
      ],
      "metadata": {
        "id": "j4VzISijKb0_"
      }
    },
    {
      "cell_type": "code",
      "source": [
        "train_data = ImageDataGenerator(rescale=1/255.,\n",
        "                                  horizontal_flip=True, # 랜덤 가로 뒤짚기\n",
        "                                  shear_range=True, # 랜덤으로 이미지 밀어 찌그러트리기\n",
        "                                  rotation_range=30, #  -30 ~ 30도 범위 랜덤 회전\n",
        "                                  zoom_range=0.3, # 랜덤 줌 범위 30%\n",
        "                                  width_shift_range=0.3, # 30% 범위로 좌우 이동\n",
        "                                  height_shift_range=0.3 # 30% 범위로 상하 이동\n",
        "                                )"
      ],
      "metadata": {
        "id": "-RYuapptAHU8"
      },
      "execution_count": null,
      "outputs": []
    },
    {
      "cell_type": "code",
      "source": [
        "train_images = train_data.flow_from_directory('/content/train',\n",
        "                                                target_size=(64,64),\n",
        "                                                batch_size=32,\n",
        "                                                class_mode='categorical')"
      ],
      "metadata": {
        "colab": {
          "base_uri": "https://localhost:8080/"
        },
        "id": "P3bMvepQS8sc",
        "outputId": "79a7bcd0-ff36-4701-93a7-6a41c69988cd"
      },
      "execution_count": null,
      "outputs": [
        {
          "output_type": "stream",
          "name": "stdout",
          "text": [
            "Found 3115 images belonging to 36 classes.\n"
          ]
        }
      ]
    },
    {
      "cell_type": "code",
      "source": [
        "val_data = ImageDataGenerator(rescale=1/255.)\n",
        "\n",
        "val_images = val_data.flow_from_directory('/content/validation',\n",
        "                                                target_size=(64,64),\n",
        "                                                batch_size=32,\n",
        "                                                class_mode='categorical')"
      ],
      "metadata": {
        "id": "puHmQULvNHGt",
        "colab": {
          "base_uri": "https://localhost:8080/"
        },
        "outputId": "b9892047-4072-432b-a81f-43239245aad9"
      },
      "execution_count": null,
      "outputs": [
        {
          "output_type": "stream",
          "name": "stdout",
          "text": [
            "Found 351 images belonging to 36 classes.\n"
          ]
        }
      ]
    },
    {
      "cell_type": "code",
      "source": [
        "test_data = ImageDataGenerator(rescale=1/255.)\n",
        "\n",
        "test_images = test_data.flow_from_directory('/content/test',\n",
        "                                           target_size=(64,64),\n",
        "                                           batch_size=32,\n",
        "                                           class_mode='categorical')"
      ],
      "metadata": {
        "colab": {
          "base_uri": "https://localhost:8080/"
        },
        "id": "J7EQJRq_AHSB",
        "outputId": "130841a4-7941-48f1-cd22-19591c93f7a3"
      },
      "execution_count": null,
      "outputs": [
        {
          "output_type": "stream",
          "name": "stdout",
          "text": [
            "Found 359 images belonging to 36 classes.\n"
          ]
        }
      ]
    },
    {
      "cell_type": "markdown",
      "source": [
        "# 모델 구성\n",
        "\n",
        "양 비슷한 모델 긁어온거라 수정 필요"
      ],
      "metadata": {
        "id": "G7l9PmsCL2EX"
      }
    },
    {
      "cell_type": "code",
      "source": [
        "model = Sequential()\n",
        "\n",
        "model.add(Conv2D(filters=32,activation='relu',kernel_size=(3,3),input_shape=(64,64,3)))\n",
        "model.add(MaxPooling2D(pool_size=(2,2)))\n",
        "\n",
        "model.add(Conv2D(filters=64,activation='relu',kernel_size=(3,3)))\n",
        "model.add(MaxPooling2D(pool_size=(2,2)))\n",
        "\n",
        "model.add(Conv2D(filters=128,activation='relu',kernel_size=(3,3)))\n",
        "model.add(BatchNormalization())\n",
        "model.add(Dropout(0.25))\n",
        "model.add(MaxPooling2D(pool_size=(2,2)))\n",
        "\n",
        "model.add(Conv2D(filters=256,activation='relu',kernel_size=(3,3)))\n",
        "model.add(BatchNormalization())\n",
        "model.add(Dropout(0.3))\n",
        "model.add(MaxPooling2D(pool_size=(2,2)))\n",
        "\n",
        "model.add(Flatten())\n",
        "\n",
        "model.add(Dense(units=64,activation='relu'))\n",
        "model.add(Dense(units=128,activation='relu'))\n",
        "model.add(BatchNormalization())\n",
        "model.add(Dropout(0.3))\n",
        "\n",
        "model.add(Dense(units=36,activation='softmax'))"
      ],
      "metadata": {
        "id": "VT-lLCExGVtS"
      },
      "execution_count": null,
      "outputs": []
    },
    {
      "cell_type": "markdown",
      "source": [
        "컴파일"
      ],
      "metadata": {
        "id": "pm9Y951pMC0v"
      }
    },
    {
      "cell_type": "code",
      "source": [
        "model.compile(loss='categorical_crossentropy',\n",
        "              optimizer='adam',\n",
        "              metrics='accuracy')\n",
        "model.summary()"
      ],
      "metadata": {
        "colab": {
          "base_uri": "https://localhost:8080/"
        },
        "id": "6BD766zlU-f8",
        "outputId": "d9affadf-e46e-47d4-de00-a350a8099a54"
      },
      "execution_count": null,
      "outputs": [
        {
          "output_type": "stream",
          "name": "stdout",
          "text": [
            "Model: \"sequential\"\n",
            "_________________________________________________________________\n",
            " Layer (type)                Output Shape              Param #   \n",
            "=================================================================\n",
            " conv2d (Conv2D)             (None, 62, 62, 32)        896       \n",
            "                                                                 \n",
            " max_pooling2d (MaxPooling2D  (None, 31, 31, 32)       0         \n",
            " )                                                               \n",
            "                                                                 \n",
            " conv2d_1 (Conv2D)           (None, 29, 29, 64)        18496     \n",
            "                                                                 \n",
            " max_pooling2d_1 (MaxPooling  (None, 14, 14, 64)       0         \n",
            " 2D)                                                             \n",
            "                                                                 \n",
            " conv2d_2 (Conv2D)           (None, 12, 12, 128)       73856     \n",
            "                                                                 \n",
            " batch_normalization (BatchN  (None, 12, 12, 128)      512       \n",
            " ormalization)                                                   \n",
            "                                                                 \n",
            " dropout (Dropout)           (None, 12, 12, 128)       0         \n",
            "                                                                 \n",
            " max_pooling2d_2 (MaxPooling  (None, 6, 6, 128)        0         \n",
            " 2D)                                                             \n",
            "                                                                 \n",
            " conv2d_3 (Conv2D)           (None, 4, 4, 256)         295168    \n",
            "                                                                 \n",
            " batch_normalization_1 (Batc  (None, 4, 4, 256)        1024      \n",
            " hNormalization)                                                 \n",
            "                                                                 \n",
            " dropout_1 (Dropout)         (None, 4, 4, 256)         0         \n",
            "                                                                 \n",
            " max_pooling2d_3 (MaxPooling  (None, 2, 2, 256)        0         \n",
            " 2D)                                                             \n",
            "                                                                 \n",
            " flatten (Flatten)           (None, 1024)              0         \n",
            "                                                                 \n",
            " dense (Dense)               (None, 64)                65600     \n",
            "                                                                 \n",
            " dense_1 (Dense)             (None, 128)               8320      \n",
            "                                                                 \n",
            " batch_normalization_2 (Batc  (None, 128)              512       \n",
            " hNormalization)                                                 \n",
            "                                                                 \n",
            " dropout_2 (Dropout)         (None, 128)               0         \n",
            "                                                                 \n",
            " dense_2 (Dense)             (None, 36)                4644      \n",
            "                                                                 \n",
            "=================================================================\n",
            "Total params: 469,028\n",
            "Trainable params: 468,004\n",
            "Non-trainable params: 1,024\n",
            "_________________________________________________________________\n"
          ]
        }
      ]
    },
    {
      "cell_type": "code",
      "source": [
        "# model.compile(loss='categorical_crossentropy',optimizer='rmsprop',metrics='accuracy')\n",
        "# model.summary();"
      ],
      "metadata": {
        "id": "pnpRq_AhGfyh"
      },
      "execution_count": null,
      "outputs": []
    },
    {
      "cell_type": "markdown",
      "source": [
        "# 훈련"
      ],
      "metadata": {
        "id": "Is8KVGjiMcL4"
      }
    },
    {
      "cell_type": "code",
      "source": [
        "history = model.fit(train_images,\n",
        "              epochs=100,\n",
        "              batch_size=32,\n",
        "              validation_data=val_images)"
      ],
      "metadata": {
        "colab": {
          "base_uri": "https://localhost:8080/"
        },
        "id": "vJnHtxNkG1rf",
        "outputId": "8c342e00-abc5-45f6-814f-b3d674f5b561"
      },
      "execution_count": null,
      "outputs": [
        {
          "output_type": "stream",
          "name": "stdout",
          "text": [
            "Epoch 1/100\n",
            " 4/98 [>.............................] - ETA: 1:56 - loss: 4.5035 - accuracy: 0.0234"
          ]
        },
        {
          "output_type": "stream",
          "name": "stderr",
          "text": [
            "/usr/local/lib/python3.7/dist-packages/PIL/Image.py:960: UserWarning: Palette images with Transparency expressed in bytes should be converted to RGBA images\n",
            "  \"Palette images with Transparency expressed in bytes should be \"\n"
          ]
        },
        {
          "output_type": "stream",
          "name": "stdout",
          "text": [
            " 6/98 [>.............................] - ETA: 1:42 - loss: 4.4027 - accuracy: 0.0312"
          ]
        },
        {
          "output_type": "stream",
          "name": "stderr",
          "text": [
            "/usr/local/lib/python3.7/dist-packages/PIL/TiffImagePlugin.py:788: UserWarning: Corrupt EXIF data.  Expecting to read 4 bytes but only got 0. \n",
            "  warnings.warn(str(msg))\n"
          ]
        },
        {
          "output_type": "stream",
          "name": "stdout",
          "text": [
            "98/98 [==============================] - 158s 1s/step - loss: 3.7352 - accuracy: 0.0671 - val_loss: 3.6829 - val_accuracy: 0.0285\n",
            "Epoch 2/100\n",
            "98/98 [==============================] - 131s 1s/step - loss: 3.1875 - accuracy: 0.1281 - val_loss: 4.1455 - val_accuracy: 0.0285\n",
            "Epoch 3/100\n",
            "98/98 [==============================] - 135s 1s/step - loss: 2.9987 - accuracy: 0.1502 - val_loss: 3.7604 - val_accuracy: 0.0285\n",
            "Epoch 4/100\n",
            "98/98 [==============================] - 131s 1s/step - loss: 2.8516 - accuracy: 0.1689 - val_loss: 3.2435 - val_accuracy: 0.1339\n",
            "Epoch 5/100\n",
            "98/98 [==============================] - 131s 1s/step - loss: 2.7568 - accuracy: 0.1900 - val_loss: 2.7521 - val_accuracy: 0.1852\n",
            "Epoch 6/100\n",
            "98/98 [==============================] - 131s 1s/step - loss: 2.6429 - accuracy: 0.2106 - val_loss: 2.8564 - val_accuracy: 0.1909\n",
            "Epoch 7/100\n",
            "98/98 [==============================] - 130s 1s/step - loss: 2.6173 - accuracy: 0.2276 - val_loss: 2.9528 - val_accuracy: 0.2393\n",
            "Epoch 8/100\n",
            "98/98 [==============================] - 133s 1s/step - loss: 2.4966 - accuracy: 0.2459 - val_loss: 2.1795 - val_accuracy: 0.3105\n",
            "Epoch 9/100\n",
            "98/98 [==============================] - 129s 1s/step - loss: 2.4561 - accuracy: 0.2607 - val_loss: 2.6463 - val_accuracy: 0.2194\n",
            "Epoch 10/100\n",
            "98/98 [==============================] - 131s 1s/step - loss: 2.4011 - accuracy: 0.2790 - val_loss: 2.3721 - val_accuracy: 0.2991\n",
            "Epoch 11/100\n",
            "98/98 [==============================] - 136s 1s/step - loss: 2.3701 - accuracy: 0.2876 - val_loss: 3.3420 - val_accuracy: 0.2593\n",
            "Epoch 12/100\n",
            "98/98 [==============================] - 130s 1s/step - loss: 2.3555 - accuracy: 0.2966 - val_loss: 3.8352 - val_accuracy: 0.2450\n",
            "Epoch 13/100\n",
            "98/98 [==============================] - 130s 1s/step - loss: 2.3165 - accuracy: 0.2931 - val_loss: 2.6733 - val_accuracy: 0.2735\n",
            "Epoch 14/100\n",
            "98/98 [==============================] - 130s 1s/step - loss: 2.2928 - accuracy: 0.3246 - val_loss: 2.3241 - val_accuracy: 0.2821\n",
            "Epoch 15/100\n",
            "98/98 [==============================] - 129s 1s/step - loss: 2.2143 - accuracy: 0.3329 - val_loss: 2.3253 - val_accuracy: 0.3647\n",
            "Epoch 16/100\n",
            "98/98 [==============================] - 130s 1s/step - loss: 2.2451 - accuracy: 0.3323 - val_loss: 2.2419 - val_accuracy: 0.3333\n",
            "Epoch 17/100\n",
            "98/98 [==============================] - 130s 1s/step - loss: 2.1900 - accuracy: 0.3342 - val_loss: 3.0730 - val_accuracy: 0.1652\n",
            "Epoch 18/100\n",
            "98/98 [==============================] - 131s 1s/step - loss: 2.1687 - accuracy: 0.3457 - val_loss: 2.8402 - val_accuracy: 0.2849\n",
            "Epoch 19/100\n",
            "98/98 [==============================] - 130s 1s/step - loss: 2.1495 - accuracy: 0.3496 - val_loss: 4.4253 - val_accuracy: 0.1111\n",
            "Epoch 20/100\n",
            "98/98 [==============================] - 130s 1s/step - loss: 2.1082 - accuracy: 0.3631 - val_loss: 4.2506 - val_accuracy: 0.1766\n",
            "Epoch 21/100\n",
            "98/98 [==============================] - 130s 1s/step - loss: 2.0963 - accuracy: 0.3685 - val_loss: 1.9542 - val_accuracy: 0.3789\n",
            "Epoch 22/100\n",
            "98/98 [==============================] - 130s 1s/step - loss: 2.0210 - accuracy: 0.3984 - val_loss: 3.3865 - val_accuracy: 0.1852\n",
            "Epoch 23/100\n",
            "98/98 [==============================] - 131s 1s/step - loss: 2.0469 - accuracy: 0.3884 - val_loss: 2.4852 - val_accuracy: 0.2650\n",
            "Epoch 24/100\n",
            "98/98 [==============================] - 131s 1s/step - loss: 2.0208 - accuracy: 0.3917 - val_loss: 2.1181 - val_accuracy: 0.4017\n",
            "Epoch 25/100\n",
            "98/98 [==============================] - 131s 1s/step - loss: 1.9987 - accuracy: 0.3965 - val_loss: 1.9088 - val_accuracy: 0.3704\n",
            "Epoch 26/100\n",
            "98/98 [==============================] - 131s 1s/step - loss: 1.9369 - accuracy: 0.4087 - val_loss: 1.4954 - val_accuracy: 0.5613\n",
            "Epoch 27/100\n",
            "98/98 [==============================] - 131s 1s/step - loss: 1.9706 - accuracy: 0.4077 - val_loss: 2.0105 - val_accuracy: 0.3675\n",
            "Epoch 28/100\n",
            "98/98 [==============================] - 131s 1s/step - loss: 1.9290 - accuracy: 0.4241 - val_loss: 2.1341 - val_accuracy: 0.3761\n",
            "Epoch 29/100\n",
            "98/98 [==============================] - 131s 1s/step - loss: 1.9194 - accuracy: 0.4257 - val_loss: 2.2489 - val_accuracy: 0.3647\n",
            "Epoch 30/100\n",
            "98/98 [==============================] - 130s 1s/step - loss: 1.9156 - accuracy: 0.4205 - val_loss: 4.8034 - val_accuracy: 0.1368\n",
            "Epoch 31/100\n",
            "98/98 [==============================] - 129s 1s/step - loss: 1.9160 - accuracy: 0.4292 - val_loss: 1.4358 - val_accuracy: 0.5698\n",
            "Epoch 32/100\n",
            "98/98 [==============================] - 128s 1s/step - loss: 1.8328 - accuracy: 0.4449 - val_loss: 2.5137 - val_accuracy: 0.3618\n",
            "Epoch 33/100\n",
            "98/98 [==============================] - 127s 1s/step - loss: 1.8890 - accuracy: 0.4459 - val_loss: 2.1256 - val_accuracy: 0.3732\n",
            "Epoch 34/100\n",
            "98/98 [==============================] - 127s 1s/step - loss: 1.8291 - accuracy: 0.4401 - val_loss: 1.3107 - val_accuracy: 0.5442\n",
            "Epoch 35/100\n",
            "98/98 [==============================] - 127s 1s/step - loss: 1.8584 - accuracy: 0.4331 - val_loss: 3.1262 - val_accuracy: 0.3447\n",
            "Epoch 36/100\n",
            "98/98 [==============================] - 127s 1s/step - loss: 1.7942 - accuracy: 0.4610 - val_loss: 1.5288 - val_accuracy: 0.5641\n",
            "Epoch 37/100\n",
            "98/98 [==============================] - 128s 1s/step - loss: 1.7842 - accuracy: 0.4677 - val_loss: 1.8323 - val_accuracy: 0.4815\n",
            "Epoch 38/100\n",
            "98/98 [==============================] - 128s 1s/step - loss: 1.7830 - accuracy: 0.4568 - val_loss: 1.3484 - val_accuracy: 0.5670\n",
            "Epoch 39/100\n",
            "98/98 [==============================] - 127s 1s/step - loss: 1.7533 - accuracy: 0.4652 - val_loss: 1.6939 - val_accuracy: 0.4929\n",
            "Epoch 40/100\n",
            "98/98 [==============================] - 127s 1s/step - loss: 1.7684 - accuracy: 0.4559 - val_loss: 1.5963 - val_accuracy: 0.5613\n",
            "Epoch 41/100\n",
            "98/98 [==============================] - 129s 1s/step - loss: 1.7277 - accuracy: 0.4690 - val_loss: 1.9775 - val_accuracy: 0.4530\n",
            "Epoch 42/100\n",
            "98/98 [==============================] - 130s 1s/step - loss: 1.7434 - accuracy: 0.4616 - val_loss: 1.7872 - val_accuracy: 0.4387\n",
            "Epoch 43/100\n",
            "98/98 [==============================] - 127s 1s/step - loss: 1.7104 - accuracy: 0.4809 - val_loss: 1.3482 - val_accuracy: 0.5812\n",
            "Epoch 44/100\n",
            "98/98 [==============================] - 127s 1s/step - loss: 1.7319 - accuracy: 0.4719 - val_loss: 1.7881 - val_accuracy: 0.4416\n",
            "Epoch 45/100\n",
            "98/98 [==============================] - 127s 1s/step - loss: 1.6779 - accuracy: 0.4899 - val_loss: 1.8581 - val_accuracy: 0.4416\n",
            "Epoch 46/100\n",
            "98/98 [==============================] - 129s 1s/step - loss: 1.6399 - accuracy: 0.5024 - val_loss: 1.7790 - val_accuracy: 0.5470\n",
            "Epoch 47/100\n",
            "98/98 [==============================] - 129s 1s/step - loss: 1.6450 - accuracy: 0.4973 - val_loss: 1.0338 - val_accuracy: 0.6695\n",
            "Epoch 48/100\n",
            "98/98 [==============================] - 129s 1s/step - loss: 1.6618 - accuracy: 0.5024 - val_loss: 1.7716 - val_accuracy: 0.4530\n",
            "Epoch 49/100\n",
            "98/98 [==============================] - 133s 1s/step - loss: 1.6306 - accuracy: 0.5040 - val_loss: 1.6115 - val_accuracy: 0.4986\n",
            "Epoch 50/100\n",
            "98/98 [==============================] - 129s 1s/step - loss: 1.6426 - accuracy: 0.5059 - val_loss: 1.5205 - val_accuracy: 0.5328\n",
            "Epoch 51/100\n",
            "98/98 [==============================] - 129s 1s/step - loss: 1.5980 - accuracy: 0.5114 - val_loss: 0.9545 - val_accuracy: 0.6838\n",
            "Epoch 52/100\n",
            "98/98 [==============================] - 129s 1s/step - loss: 1.6089 - accuracy: 0.5088 - val_loss: 1.8641 - val_accuracy: 0.4473\n",
            "Epoch 53/100\n",
            "98/98 [==============================] - 129s 1s/step - loss: 1.6253 - accuracy: 0.5111 - val_loss: 0.9720 - val_accuracy: 0.6752\n",
            "Epoch 54/100\n",
            "98/98 [==============================] - 130s 1s/step - loss: 1.6089 - accuracy: 0.5114 - val_loss: 1.4438 - val_accuracy: 0.5413\n",
            "Epoch 55/100\n",
            "98/98 [==============================] - 130s 1s/step - loss: 1.5369 - accuracy: 0.5303 - val_loss: 0.9988 - val_accuracy: 0.6952\n",
            "Epoch 56/100\n",
            "98/98 [==============================] - 131s 1s/step - loss: 1.5591 - accuracy: 0.5249 - val_loss: 1.5563 - val_accuracy: 0.5442\n",
            "Epoch 57/100\n",
            "98/98 [==============================] - 130s 1s/step - loss: 1.5255 - accuracy: 0.5332 - val_loss: 1.2248 - val_accuracy: 0.6268\n",
            "Epoch 58/100\n",
            "98/98 [==============================] - 129s 1s/step - loss: 1.5186 - accuracy: 0.5268 - val_loss: 1.4646 - val_accuracy: 0.6011\n",
            "Epoch 59/100\n",
            "98/98 [==============================] - 130s 1s/step - loss: 1.5127 - accuracy: 0.5390 - val_loss: 0.9044 - val_accuracy: 0.7066\n",
            "Epoch 60/100\n",
            "98/98 [==============================] - 130s 1s/step - loss: 1.5158 - accuracy: 0.5319 - val_loss: 1.8395 - val_accuracy: 0.5157\n",
            "Epoch 61/100\n",
            "98/98 [==============================] - 129s 1s/step - loss: 1.5051 - accuracy: 0.5422 - val_loss: 1.1109 - val_accuracy: 0.6296\n",
            "Epoch 62/100\n",
            "98/98 [==============================] - 128s 1s/step - loss: 1.4722 - accuracy: 0.5483 - val_loss: 1.6377 - val_accuracy: 0.5698\n",
            "Epoch 63/100\n",
            "98/98 [==============================] - 127s 1s/step - loss: 1.4902 - accuracy: 0.5538 - val_loss: 1.0658 - val_accuracy: 0.6553\n",
            "Epoch 64/100\n",
            "98/98 [==============================] - 127s 1s/step - loss: 1.5019 - accuracy: 0.5441 - val_loss: 2.3123 - val_accuracy: 0.4245\n",
            "Epoch 65/100\n",
            "98/98 [==============================] - 127s 1s/step - loss: 1.5022 - accuracy: 0.5461 - val_loss: 0.8784 - val_accuracy: 0.7265\n",
            "Epoch 66/100\n",
            "98/98 [==============================] - 127s 1s/step - loss: 1.4198 - accuracy: 0.5692 - val_loss: 1.0789 - val_accuracy: 0.6296\n",
            "Epoch 67/100\n",
            "98/98 [==============================] - 127s 1s/step - loss: 1.4314 - accuracy: 0.5538 - val_loss: 1.1934 - val_accuracy: 0.6325\n",
            "Epoch 68/100\n",
            "98/98 [==============================] - 128s 1s/step - loss: 1.4374 - accuracy: 0.5541 - val_loss: 0.8116 - val_accuracy: 0.7464\n",
            "Epoch 69/100\n",
            "98/98 [==============================] - 127s 1s/step - loss: 1.4230 - accuracy: 0.5634 - val_loss: 1.9631 - val_accuracy: 0.5185\n",
            "Epoch 70/100\n",
            "98/98 [==============================] - 127s 1s/step - loss: 1.4108 - accuracy: 0.5583 - val_loss: 1.3787 - val_accuracy: 0.5755\n",
            "Epoch 71/100\n",
            "98/98 [==============================] - 127s 1s/step - loss: 1.4926 - accuracy: 0.5332 - val_loss: 0.9758 - val_accuracy: 0.7009\n",
            "Epoch 72/100\n",
            "98/98 [==============================] - 127s 1s/step - loss: 1.4096 - accuracy: 0.5592 - val_loss: 1.2338 - val_accuracy: 0.6011\n",
            "Epoch 73/100\n",
            "98/98 [==============================] - 127s 1s/step - loss: 1.4082 - accuracy: 0.5621 - val_loss: 1.5229 - val_accuracy: 0.5413\n",
            "Epoch 74/100\n",
            "98/98 [==============================] - 127s 1s/step - loss: 1.4016 - accuracy: 0.5640 - val_loss: 1.0182 - val_accuracy: 0.6724\n",
            "Epoch 75/100\n",
            "98/98 [==============================] - 127s 1s/step - loss: 1.3662 - accuracy: 0.5807 - val_loss: 0.7312 - val_accuracy: 0.7635\n",
            "Epoch 76/100\n",
            "98/98 [==============================] - 127s 1s/step - loss: 1.3308 - accuracy: 0.5849 - val_loss: 0.6381 - val_accuracy: 0.7806\n",
            "Epoch 77/100\n",
            "98/98 [==============================] - 127s 1s/step - loss: 1.3556 - accuracy: 0.5878 - val_loss: 0.6920 - val_accuracy: 0.7863\n",
            "Epoch 78/100\n",
            "98/98 [==============================] - 127s 1s/step - loss: 1.3328 - accuracy: 0.5872 - val_loss: 0.9884 - val_accuracy: 0.6695\n",
            "Epoch 79/100\n",
            "98/98 [==============================] - 128s 1s/step - loss: 1.3317 - accuracy: 0.5849 - val_loss: 1.0567 - val_accuracy: 0.6496\n",
            "Epoch 80/100\n",
            "98/98 [==============================] - 128s 1s/step - loss: 1.3242 - accuracy: 0.5942 - val_loss: 0.8048 - val_accuracy: 0.7578\n",
            "Epoch 81/100\n",
            "98/98 [==============================] - 128s 1s/step - loss: 1.3519 - accuracy: 0.5820 - val_loss: 0.8046 - val_accuracy: 0.7151\n",
            "Epoch 82/100\n",
            "98/98 [==============================] - 128s 1s/step - loss: 1.3024 - accuracy: 0.5907 - val_loss: 1.1965 - val_accuracy: 0.6182\n",
            "Epoch 83/100\n",
            "98/98 [==============================] - 127s 1s/step - loss: 1.3445 - accuracy: 0.5846 - val_loss: 0.7274 - val_accuracy: 0.7806\n",
            "Epoch 84/100\n",
            "98/98 [==============================] - 128s 1s/step - loss: 1.2838 - accuracy: 0.5968 - val_loss: 0.8715 - val_accuracy: 0.7094\n",
            "Epoch 85/100\n",
            "98/98 [==============================] - 128s 1s/step - loss: 1.2814 - accuracy: 0.6016 - val_loss: 0.8478 - val_accuracy: 0.7265\n",
            "Epoch 86/100\n",
            "98/98 [==============================] - 128s 1s/step - loss: 1.3520 - accuracy: 0.5823 - val_loss: 1.0590 - val_accuracy: 0.6382\n",
            "Epoch 87/100\n",
            "98/98 [==============================] - 127s 1s/step - loss: 1.3276 - accuracy: 0.5843 - val_loss: 0.5961 - val_accuracy: 0.7949\n",
            "Epoch 88/100\n",
            "98/98 [==============================] - 127s 1s/step - loss: 1.3155 - accuracy: 0.5994 - val_loss: 0.7302 - val_accuracy: 0.7664\n",
            "Epoch 89/100\n",
            "98/98 [==============================] - 128s 1s/step - loss: 1.2792 - accuracy: 0.6029 - val_loss: 0.7172 - val_accuracy: 0.7664\n",
            "Epoch 90/100\n",
            "98/98 [==============================] - 127s 1s/step - loss: 1.2559 - accuracy: 0.6112 - val_loss: 1.6342 - val_accuracy: 0.5128\n",
            "Epoch 91/100\n",
            "98/98 [==============================] - 127s 1s/step - loss: 1.2634 - accuracy: 0.6167 - val_loss: 0.8954 - val_accuracy: 0.7179\n",
            "Epoch 92/100\n",
            "98/98 [==============================] - 128s 1s/step - loss: 1.2222 - accuracy: 0.6151 - val_loss: 1.0114 - val_accuracy: 0.6752\n",
            "Epoch 93/100\n",
            "98/98 [==============================] - 127s 1s/step - loss: 1.2589 - accuracy: 0.6029 - val_loss: 1.0150 - val_accuracy: 0.6581\n",
            "Epoch 94/100\n",
            "98/98 [==============================] - 127s 1s/step - loss: 1.2122 - accuracy: 0.6238 - val_loss: 0.7944 - val_accuracy: 0.7123\n",
            "Epoch 95/100\n",
            "98/98 [==============================] - 127s 1s/step - loss: 1.2394 - accuracy: 0.6186 - val_loss: 1.1982 - val_accuracy: 0.6724\n",
            "Epoch 96/100\n",
            "98/98 [==============================] - 127s 1s/step - loss: 1.2590 - accuracy: 0.6087 - val_loss: 0.6814 - val_accuracy: 0.7578\n",
            "Epoch 97/100\n",
            "98/98 [==============================] - 127s 1s/step - loss: 1.2305 - accuracy: 0.6151 - val_loss: 1.7586 - val_accuracy: 0.4872\n",
            "Epoch 98/100\n",
            "98/98 [==============================] - 127s 1s/step - loss: 1.2067 - accuracy: 0.6183 - val_loss: 0.6999 - val_accuracy: 0.7521\n",
            "Epoch 99/100\n",
            "98/98 [==============================] - 127s 1s/step - loss: 1.2354 - accuracy: 0.6128 - val_loss: 0.7724 - val_accuracy: 0.7407\n",
            "Epoch 100/100\n",
            "98/98 [==============================] - 129s 1s/step - loss: 1.2657 - accuracy: 0.6186 - val_loss: 0.6529 - val_accuracy: 0.7692\n"
          ]
        }
      ]
    },
    {
      "cell_type": "code",
      "source": [
        "plt.figure(figsize=(12,8))\n",
        "plt.plot(history.history['loss'],'r',label='train loss')\n",
        "plt.plot(history.history['val_loss'],'y',label='validation loss')\n",
        "plt.plot(history.history['accuracy'],'b',label='train accuracy')\n",
        "plt.plot(history.history['val_accuracy'],'g',label='validation accuracy')\n",
        "plt.xlabel('Epochs')\n",
        "# plt.title('')\n",
        "plt.legend();"
      ],
      "metadata": {
        "id": "n4i5NBwaHFk7",
        "colab": {
          "base_uri": "https://localhost:8080/",
          "height": 497
        },
        "outputId": "e5236e0e-4273-465b-c327-9924dec3f1b1"
      },
      "execution_count": null,
      "outputs": [
        {
          "output_type": "display_data",
          "data": {
            "text/plain": [
              "<Figure size 864x576 with 1 Axes>"
            ],
            "image/png": "[encoded data removed]"
          },
          "metadata": {
            "needs_background": "light"
          }
        }
      ]
    },
    {
      "cell_type": "code",
      "source": [
        "model.evaluate(test_images)"
      ],
      "metadata": {
        "id": "3I36pIDGH1c8",
        "colab": {
          "base_uri": "https://localhost:8080/"
        },
        "outputId": "4bfcaf9b-4dfd-4c09-e4ff-398bdff0ed5b"
      },
      "execution_count": null,
      "outputs": [
        {
          "output_type": "stream",
          "name": "stdout",
          "text": [
            "12/12 [==============================] - 17s 1s/step - loss: 0.6589 - accuracy: 0.7660\n"
          ]
        },
        {
          "output_type": "execute_result",
          "data": {
            "text/plain": [
              "[0.6589157581329346, 0.7660167217254639]"
            ]
          },
          "metadata": {},
          "execution_count": 13
        }
      ]
    },
    {
      "cell_type": "markdown",
      "source": [
        "######################################################"
      ],
      "metadata": {
        "id": "L3ItUwV1H2MX"
      }
    },
    {
      "cell_type": "code",
      "source": [
        "# 예측하기. 테스트 이미지에 대한 출력\n",
        "predictions = model.predict(test_images)\n",
        "print(predictions[0])\n",
        "print(np.argmax(predictions[0]))"
      ],
      "metadata": {
        "id": "mDh96doH1sg9",
        "colab": {
          "base_uri": "https://localhost:8080/"
        },
        "outputId": "77503e48-abca-4fe7-c2a0-0c720d57686b"
      },
      "execution_count": null,
      "outputs": [
        {
          "output_type": "stream",
          "name": "stdout",
          "text": [
            "12/12 [==============================] - 18s 1s/step\n",
            "[7.2650992e-06 1.4707667e-03 6.6992898e-06 7.4243638e-07 2.8886661e-06\n",
            " 7.7594439e-07 5.4767850e-05 1.3172727e-04 4.5820778e-07 2.0067791e-05\n",
            " 2.6378448e-06 4.2065058e-06 9.7837448e-03 9.6399748e-01 2.6540434e-07\n",
            " 2.2290124e-06 5.2318966e-04 6.7152781e-05 3.3383617e-07 2.1859641e-04\n",
            " 3.4705014e-03 7.7329050e-06 2.5228649e-06 9.2911898e-05 7.6595268e-07\n",
            " 5.3772272e-04 5.5446844e-07 1.7329875e-02 3.2997364e-04 4.2972162e-05\n",
            " 5.2595840e-07 3.8573555e-05 5.3960655e-04 4.3059001e-07 1.3073350e-03\n",
            " 1.9908041e-06]\n",
            "13\n"
          ]
        }
      ]
    }
  ]
}